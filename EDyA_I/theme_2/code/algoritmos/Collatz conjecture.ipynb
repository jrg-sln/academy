{
 "cells": [
  {
   "cell_type": "markdown",
   "metadata": {},
   "source": [
    "# La conjetura de Collatz"
   ]
  },
  {
   "cell_type": "markdown",
   "metadata": {},
   "source": [
    "### la conjetura de collatz es muy conocida y comunmente se dice que hasta un niño de primaria puede entenderla ya que solo involucra operaciones sencillas\n",
    "### sigue dos simples reglas: dado un numero si es par dividirlo entre dos y si es impar multiplicarlo por 3 y sumarle uno\n",
    "### conforme vas haciendo esto te das cuenta de que llegas a un ciclo infinito entre el 4,2,1,4,2,1,4,2,1,...,4,2,1\n",
    "### la conjetura de collatz dice que empezando por cualquier número siempre se llagará al 1"
   ]
  },
  {
   "cell_type": "markdown",
   "metadata": {},
   "source": [
    "### hay números que llegan muy pronto al uno y hay otros que no y no radica en que tan grande o pequeños sean, asi que la complejidad es distinta. Aquí graficaremos los primeros 100 números naturales para que vean de que estoy hablando"
   ]
  },
  {
   "cell_type": "code",
   "execution_count": 1,
   "metadata": {
    "collapsed": false
   },
   "outputs": [],
   "source": [
    "def collatz(entNum):\n",
    "    cont=0\n",
    "    while entNum!=1:\n",
    "        if entNum%2==0:\n",
    "            cont+=1\n",
    "            entNum=entNum/2\n",
    "        else:\n",
    "            cont+=1\n",
    "            entNum=3*entNum+1\n",
    "    return cont\n",
    "\n"
   ]
  },
  {
   "cell_type": "code",
   "execution_count": 2,
   "metadata": {
    "collapsed": false
   },
   "outputs": [
    {
     "name": "stdout",
     "output_type": "stream",
     "text": [
      "Populating the interactive namespace from numpy and matplotlib\n"
     ]
    },
    {
     "data": {
      "image/png": "[encoded data removed]",
      "text/plain": [
       "<matplotlib.figure.Figure at 0x1801b421160>"
      ]
     },
     "metadata": {},
     "output_type": "display_data"
    }
   ],
   "source": [
    "%pylab inline \n",
    "import matplotlib.pyplot as plt\n",
    "from mpl_toolkits.mplot3d import Axes3D\n",
    "\n",
    "y=[]\n",
    "x = linspace(1, 101,101)\n",
    "for i in x:\n",
    "    y.append(collatz(i))\n",
    "\n",
    "\n",
    "fig, ax = plt.subplots(facecolor='w', edgecolor='k')\n",
    "ax.plot(x, y, marker=\"o\",color=\"r\", linestyle='None')\n",
    "\n",
    "ax.grid(True)\n",
    "ax.set_xlabel('X')  #Etiqueta del eje x\n",
    "ax.set_ylabel('Y')  #Etiqueta del eje y\n",
    "ax.grid(True)\n",
    "#ax.legend([\"y = collatz\"])\n",
    "\n",
    "plt.title('Collatz')\n",
    "plt.show()\n",
    "\n",
    "fig.savefig(\"collatz.png\") #Guardando la gráfica"
   ]
  },
  {
   "cell_type": "markdown",
   "metadata": {},
   "source": [
    "### como podemos ver la grafica no sigue un patron determindado y ciertos numeros grandes tardan muy pocos pasos así como ciertos numeros pequeños como el 27 tardan muchos pasos"
   ]
  },
  {
   "cell_type": "code",
   "execution_count": null,
   "metadata": {
    "collapsed": true
   },
   "outputs": [],
   "source": []
  }
 ],
 "metadata": {
  "kernelspec": {
   "display_name": "Python 3",
   "language": "python",
   "name": "python3"
  },
  "language_info": {
   "codemirror_mode": {
    "name": "ipython",
    "version": 3
   },
   "file_extension": ".py",
   "mimetype": "text/x-python",
   "name": "python",
   "nbconvert_exporter": "python",
   "pygments_lexer": "ipython3",
   "version": "3.6.0"
  }
 },
 "nbformat": 4,
 "nbformat_minor": 2
}
