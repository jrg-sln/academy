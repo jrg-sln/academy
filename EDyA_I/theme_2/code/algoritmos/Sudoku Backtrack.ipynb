{
 "cells": [
  {
   "cell_type": "markdown",
   "metadata": {},
   "source": [
    "# Algoritmo para resolver sudoku usando backtrack"
   ]
  },
  {
   "cell_type": "markdown",
   "metadata": {},
   "source": [
    "### función para imprimir la matriz"
   ]
  },
  {
   "cell_type": "code",
   "execution_count": 5,
   "metadata": {
    "collapsed": true
   },
   "outputs": [],
   "source": [
    "def printBoard(board):\n",
    "    for x in range(0, 9):\n",
    "        print()\n",
    "        if x==3 or x==6:\n",
    "                print(\"\\n\")\n",
    "        for y in range(0, 9):\n",
    "            print(board[x][y], end=\" \")\n",
    "            if y==2 or y==5:\n",
    "                print(\"\\t\",end=\" \")"
   ]
  },
  {
   "cell_type": "markdown",
   "metadata": {},
   "source": [
    "### funcion para checar que la matriz este totalmente llena, si lo está quiere decir que esta reuelto el sudoku"
   ]
  },
  {
   "cell_type": "code",
   "execution_count": 6,
   "metadata": {
    "collapsed": true
   },
   "outputs": [],
   "source": [
    "def isFull(board):\n",
    "    for x in range(0, 9):\n",
    "        for y in range (0, 9):\n",
    "            if board[x][y] == 0:\n",
    "                return False\n",
    "    return True"
   ]
  },
  {
   "cell_type": "markdown",
   "metadata": {},
   "source": [
    "### aquí checamos las posibles respuestas para cada recuadro cuidando la regla verticar horizontal y en cada cuadrito 3x3"
   ]
  },
  {
   "cell_type": "code",
   "execution_count": 7,
   "metadata": {
    "collapsed": true
   },
   "outputs": [],
   "source": [
    "def possibleEntries(board, i, j):\n",
    "    possibilityArray = {}\n",
    "    for x in range (1, 10):\n",
    "        possibilityArray[x] = 0\n",
    "        \n",
    "\n",
    "    #horizontal\n",
    "    for y in range (0, 9):\n",
    "        if not board[i][y] == 0: \n",
    "            possibilityArray[board[i][y]] = 1\n",
    "   \n",
    "    \n",
    "    \n",
    "    #vertical\n",
    "    for x in range (0, 9):\n",
    "        if not board[x][j] == 0: \n",
    "            possibilityArray[board[x][j]] = 1\n",
    "    \n",
    "\n",
    "    #3 x 3\n",
    "    k = 0\n",
    "    l = 0\n",
    "    if i >= 0 and i <= 2:\n",
    "        k = 0\n",
    "    elif i >= 3 and i <= 5:\n",
    "        k = 3\n",
    "    else:\n",
    "        k = 6\n",
    "    if j >= 0 and j <= 2:\n",
    "        l = 0\n",
    "    elif j >= 3 and j <= 5:\n",
    "        l = 3\n",
    "    else:\n",
    "        l = 6\n",
    "    for x in range (k, k + 3):\n",
    "        for y in range (l, l + 3):\n",
    "            if not board[x][y] == 0:\n",
    "                possibilityArray[board[x][y]] = 1 \n",
    "    \n",
    "\n",
    "    for x in range (1, 10):\n",
    "        if possibilityArray[x] == 0:\n",
    "            possibilityArray[x] = x\n",
    "        else:\n",
    "            possibilityArray[x] = 0\n",
    "    \n",
    "\n",
    "    return possibilityArray"
   ]
  },
  {
   "cell_type": "markdown",
   "metadata": {},
   "source": [
    "### Ésta es la funcion mas importante ya que es la que realiza el backtracking y resuelve en sí el rompecabezas"
   ]
  },
  {
   "cell_type": "code",
   "execution_count": 8,
   "metadata": {
    "collapsed": true
   },
   "outputs": [],
   "source": [
    "def sudokuSolver(board):\n",
    "    i = 0\n",
    "    j = 0\n",
    "    possiblities = {}\n",
    "    if isFull(board):\n",
    "        print(\"\\n\\nSudoku resuelto!\")\n",
    "        printBoard(board)\n",
    "        return\n",
    "    else:\n",
    "        #se encuentra el primer espacio\n",
    "        for x in range (0, 9):\n",
    "            for y in range (0, 9):\n",
    "                if board[x][y] == 0:\n",
    "                    i = x\n",
    "                    j = y\n",
    "                    break\n",
    "            else:\n",
    "                continue\n",
    "            break\n",
    "\n",
    "        possiblities = possibleEntries(board, i, j)\n",
    "\n",
    "        # se llama la funcion una y otra vez con las diferentes posibilidades\n",
    "        for x in range (1, 10):\n",
    "            if not possiblities[x] == 0:\n",
    "                board[i][j] = possiblities[x]\n",
    "                \n",
    "                sudokuSolver(board)\n",
    "        # si en algun momento ya no hay posiblilidades se corre esta linea         \n",
    "        # backtrack\n",
    "        board[i][j] = 0"
   ]
  },
  {
   "cell_type": "markdown",
   "metadata": {},
   "source": [
    "### En esta función se puede poner el sudoku que queramos resolver "
   ]
  },
  {
   "cell_type": "code",
   "execution_count": 9,
   "metadata": {
    "collapsed": false
   },
   "outputs": [],
   "source": [
    "def main():\n",
    "    SudokuBoard = [[0 for x in range(9)] for x in range(9)] \n",
    "    SudokuBoard[0][0] = 0\n",
    "    SudokuBoard[0][1] = 0\n",
    "    SudokuBoard[0][2] = 0\n",
    "    SudokuBoard[0][3] = 3\n",
    "    SudokuBoard[0][4] = 0\n",
    "    SudokuBoard[0][5] = 0\n",
    "    SudokuBoard[0][6] = 2\n",
    "    SudokuBoard[0][7] = 0\n",
    "    SudokuBoard[0][8] = 0\n",
    "    SudokuBoard[1][0] = 0\n",
    "    SudokuBoard[1][1] = 0\n",
    "    SudokuBoard[1][2] = 0\n",
    "    SudokuBoard[1][3] = 0\n",
    "    SudokuBoard[1][4] = 0\n",
    "    SudokuBoard[1][5] = 8\n",
    "    SudokuBoard[1][6] = 0\n",
    "    SudokuBoard[1][7] = 0\n",
    "    SudokuBoard[1][8] = 0\n",
    "    SudokuBoard[2][0] = 0\n",
    "    SudokuBoard[2][1] = 7\n",
    "    SudokuBoard[2][2] = 8\n",
    "    SudokuBoard[2][3] = 0\n",
    "    SudokuBoard[2][4] = 6\n",
    "    SudokuBoard[2][5] = 0\n",
    "    SudokuBoard[2][6] = 3\n",
    "    SudokuBoard[2][7] = 4\n",
    "    SudokuBoard[2][8] = 0\n",
    "    SudokuBoard[3][0] = 0\n",
    "    SudokuBoard[3][1] = 4\n",
    "    SudokuBoard[3][2] = 2\n",
    "    SudokuBoard[3][3] = 5\n",
    "    SudokuBoard[3][4] = 1\n",
    "    SudokuBoard[3][5] = 0\n",
    "    SudokuBoard[3][6] = 0\n",
    "    SudokuBoard[3][7] = 0\n",
    "    SudokuBoard[3][8] = 0\n",
    "    SudokuBoard[4][0] = 1\n",
    "    SudokuBoard[4][1] = 0\n",
    "    SudokuBoard[4][2] = 6\n",
    "    SudokuBoard[4][3] = 0\n",
    "    SudokuBoard[4][4] = 0\n",
    "    SudokuBoard[4][5] = 0\n",
    "    SudokuBoard[4][6] = 4\n",
    "    SudokuBoard[4][7] = 0\n",
    "    SudokuBoard[4][8] = 9\n",
    "    SudokuBoard[5][0] = 0\n",
    "    SudokuBoard[5][1] = 0\n",
    "    SudokuBoard[5][2] = 0\n",
    "    SudokuBoard[5][3] = 0\n",
    "    SudokuBoard[5][4] = 8\n",
    "    SudokuBoard[5][5] = 6\n",
    "    SudokuBoard[5][6] = 1\n",
    "    SudokuBoard[5][7] = 5\n",
    "    SudokuBoard[5][8] = 0\n",
    "    SudokuBoard[6][0] = 0\n",
    "    SudokuBoard[6][1] = 3\n",
    "    SudokuBoard[6][2] = 5\n",
    "    SudokuBoard[6][3] = 0\n",
    "    SudokuBoard[6][4] = 9\n",
    "    SudokuBoard[6][5] = 0\n",
    "    SudokuBoard[6][6] = 7\n",
    "    SudokuBoard[6][7] = 6\n",
    "    SudokuBoard[6][8] = 0\n",
    "    SudokuBoard[7][0] = 0\n",
    "    SudokuBoard[7][1] = 0\n",
    "    SudokuBoard[7][2] = 0\n",
    "    SudokuBoard[7][3] = 7\n",
    "    SudokuBoard[7][4] = 0\n",
    "    SudokuBoard[7][5] = 0\n",
    "    SudokuBoard[7][6] = 0\n",
    "    SudokuBoard[7][7] = 0\n",
    "    SudokuBoard[7][8] = 0\n",
    "    SudokuBoard[8][0] = 0\n",
    "    SudokuBoard[8][1] = 0\n",
    "    SudokuBoard[8][2] = 9\n",
    "    SudokuBoard[8][3] = 0\n",
    "    SudokuBoard[8][4] = 0\n",
    "    SudokuBoard[8][5] = 5\n",
    "    SudokuBoard[8][6] = 0\n",
    "    SudokuBoard[8][7] = 0\n",
    "    SudokuBoard[8][8] = 0\n",
    "    printBoard(SudokuBoard)\n",
    "    sudokuSolver(SudokuBoard)"
   ]
  },
  {
   "cell_type": "markdown",
   "metadata": {},
   "source": [
    "### ejecutamos todo y veremos primero el sudoku sin resolver con ceros donde hay espacios blancos y a continuación la respuesta al mismo"
   ]
  },
  {
   "cell_type": "code",
   "execution_count": 10,
   "metadata": {
    "collapsed": false
   },
   "outputs": [
    {
     "name": "stdout",
     "output_type": "stream",
     "text": [
      "\n",
      "0 0 0 \t 3 0 0 \t 2 0 0 \n",
      "0 0 0 \t 0 0 8 \t 0 0 0 \n",
      "0 7 8 \t 0 6 0 \t 3 4 0 \n",
      "\n",
      "\n",
      "0 4 2 \t 5 1 0 \t 0 0 0 \n",
      "1 0 6 \t 0 0 0 \t 4 0 9 \n",
      "0 0 0 \t 0 8 6 \t 1 5 0 \n",
      "\n",
      "\n",
      "0 3 5 \t 0 9 0 \t 7 6 0 \n",
      "0 0 0 \t 7 0 0 \t 0 0 0 \n",
      "0 0 9 \t 0 0 5 \t 0 0 0 \n",
      "\n",
      "Sudoku resuelto!\n",
      "\n",
      "9 6 1 \t 3 5 4 \t 2 7 8 \n",
      "4 2 3 \t 1 7 8 \t 5 9 6 \n",
      "5 7 8 \t 9 6 2 \t 3 4 1 \n",
      "\n",
      "\n",
      "8 4 2 \t 5 1 9 \t 6 3 7 \n",
      "1 5 6 \t 2 3 7 \t 4 8 9 \n",
      "3 9 7 \t 4 8 6 \t 1 5 2 \n",
      "\n",
      "\n",
      "2 3 5 \t 8 9 1 \t 7 6 4 \n",
      "6 8 4 \t 7 2 3 \t 9 1 5 \n",
      "7 1 9 \t 6 4 5 \t 8 2 3 "
     ]
    }
   ],
   "source": [
    "main()"
   ]
  },
  {
   "cell_type": "code",
   "execution_count": null,
   "metadata": {
    "collapsed": true
   },
   "outputs": [],
   "source": []
  }
 ],
 "metadata": {
  "kernelspec": {
   "display_name": "Python 3",
   "language": "python",
   "name": "python3"
  },
  "language_info": {
   "codemirror_mode": {
    "name": "ipython",
    "version": 3
   },
   "file_extension": ".py",
   "mimetype": "text/x-python",
   "name": "python",
   "nbconvert_exporter": "python",
   "pygments_lexer": "ipython3",
   "version": "3.6.0"
  }
 },
 "nbformat": 4,
 "nbformat_minor": 2
}
