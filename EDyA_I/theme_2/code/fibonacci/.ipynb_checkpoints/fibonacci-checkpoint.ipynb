{
 "cells": [
  {
   "cell_type": "markdown",
   "metadata": {},
   "source": [
    "## Fibonacci"
   ]
  },
  {
   "cell_type": "code",
   "execution_count": 1,
   "metadata": {
    "collapsed": false
   },
   "outputs": [
    {
     "name": "stdout",
     "output_type": "stream",
     "text": [
      "Populating the interactive namespace from numpy and matplotlib\n"
     ]
    }
   ],
   "source": [
    "#Esta línea se ocupa para que las gráficas que se generen queden embebidas dentro de la página\n",
    "%pylab inline"
   ]
  },
  {
   "cell_type": "code",
   "execution_count": 2,
   "metadata": {
    "collapsed": false
   },
   "outputs": [],
   "source": [
    "import matplotlib.pyplot as plt\n",
    "from mpl_toolkits.mplot3d import Axes3D"
   ]
  },
  {
   "cell_type": "code",
   "execution_count": 3,
   "metadata": {
    "collapsed": false
   },
   "outputs": [],
   "source": [
    "def fibonacciIterativo(ene):\n",
    "    a = 0\n",
    "    b = 1\n",
    "    contador = 1\n",
    "    fibo = 0\n",
    "    while contador < ene:\n",
    "        fibo = b + a\n",
    "        a = b\n",
    "        b = fibo\n",
    "        contador += 1\n",
    "    return contador"
   ]
  },
  {
   "cell_type": "code",
   "execution_count": 4,
   "metadata": {
    "collapsed": false
   },
   "outputs": [
    {
     "data": {
      "image/png": "[encoded data removed]",
      "text/plain": [
       "<matplotlib.figure.Figure at 0x2d2c1124240>"
      ]
     },
     "metadata": {},
     "output_type": "display_data"
    }
   ],
   "source": [
    "#Datos de entrada, se generan 10 puntos entre 0 y 5\n",
    "x = linspace(0, 100, 100)\n",
    "y = []\n",
    "\n",
    "for val in x:\n",
    "    y.append(str(fibonacciIterativo(int(val))))\n",
    "\n",
    "\n",
    "fig, ax = plt.subplots(facecolor='w', edgecolor='k')\n",
    "ax.plot(x, y, marker=\"o\", color=\"r\", linestyle='None')\n",
    "ax.grid(True)\n",
    "ax.set_xlabel('X')\n",
    "ax.set_ylabel('Y')\n",
    "ax.grid(True)\n",
    "\n",
    "plt.title('Puntos')\n",
    "plt.show()\n",
    "\n",
    "fig.savefig(\"graph.png\")"
   ]
  },
  {
   "cell_type": "code",
   "execution_count": 5,
   "metadata": {
    "collapsed": true
   },
   "outputs": [],
   "source": [
    "def fibonacciRecursivo(ene):\n",
    "    if (ene == 0):\n",
    "        return 1\n",
    "    if (ene == 1):\n",
    "        return 1\n",
    "    return fibonacciRecursivo(ene - 1) + fibonacciRecursivo(ene - 2)\n"
   ]
  },
  {
   "cell_type": "code",
   "execution_count": 6,
   "metadata": {
    "collapsed": false
   },
   "outputs": [
    {
     "data": {
      "image/png": "[encoded data removed]",
      "text/plain": [
       "<matplotlib.figure.Figure at 0x2d2c11241d0>"
      ]
     },
     "metadata": {},
     "output_type": "display_data"
    }
   ],
   "source": [
    "#Datos de entrada, se generan 10 puntos entre 0 y 5\n",
    "x = linspace(0, 20, 20)\n",
    "y = []\n",
    "\n",
    "for val in x:\n",
    "    y.append(str(fibonacciRecursivo(int(val))))\n",
    "\n",
    "\n",
    "fig, ax = plt.subplots(facecolor='w', edgecolor='k')\n",
    "ax.plot(x, y, marker=\"o\", color=\"r\", linestyle='None')\n",
    "ax.grid(True)\n",
    "ax.set_xlabel('X')\n",
    "ax.set_ylabel('Y')\n",
    "ax.grid(True)\n",
    "\n",
    "plt.title('Fibonacci recursivo')\n",
    "plt.show()\n",
    "\n",
    "fig.savefig(\"graph.png\")"
   ]
  },
  {
   "cell_type": "code",
   "execution_count": null,
   "metadata": {
    "collapsed": true
   },
   "outputs": [],
   "source": []
  }
 ],
 "metadata": {
  "anaconda-cloud": {},
  "kernelspec": {
   "display_name": "Python [default]",
   "language": "python",
   "name": "python3"
  },
  "language_info": {
   "codemirror_mode": {
    "name": "ipython",
    "version": 3
   },
   "file_extension": ".py",
   "mimetype": "text/x-python",
   "name": "python",
   "nbconvert_exporter": "python",
   "pygments_lexer": "ipython3",
   "version": "3.5.2"
  }
 },
 "nbformat": 4,
 "nbformat_minor": 0
}
