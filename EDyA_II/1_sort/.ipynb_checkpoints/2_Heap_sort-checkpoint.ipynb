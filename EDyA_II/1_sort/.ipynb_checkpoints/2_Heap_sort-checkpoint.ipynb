{
 "cells": [
  {
   "cell_type": "markdown",
   "metadata": {},
   "source": [
    "## Heap sort"
   ]
  },
  {
   "cell_type": "markdown",
   "metadata": {},
   "source": [
    "La estructura de datos montículo binario (binary heap) es un arreglo de objetos, el cual puede ser visto como un árbol binario. Cada nodo del árbol corresponde a un elemento en el arreglo donde se almacena su valor.\n",
    "\n",
    "El montículo se construye desde el nodo inicial (raíz) hasta los nodos finales (hoja). Es posible que un montículo no tenga todos los nodos finales.\n",
    "\n",
    "\n",
    "Un montículo máximo cumple con la propiedad de que para cualquier nodo i diferente a root: A[PARENT(i)] > A[i], es decir, el nodo iésimo tiene como valor máximo el valor del padre. Por tanto, el valor máximo del montículo se encuentra en la raíz.\n",
    "\n",
    "El algoritmo heap sort se basa en un montículo máximo. Los montículos mínimos son utilizados para programar colas de prioridad."
   ]
  },
  {
   "cell_type": "code",
   "execution_count": null,
   "metadata": {
    "collapsed": true
   },
   "outputs": [],
   "source": [
    "# https://www.geeksforgeeks.org/sorting-algorithms/\n",
    "\n",
    "%pylab inline\n",
    "import matplotlib.pyplot as plt\n",
    "from mpl_toolkits.mplot3d import Axes3D\n",
    "import random\n",
    "import math"
   ]
  },
  {
   "cell_type": "code",
   "execution_count": null,
   "metadata": {
    "collapsed": true
   },
   "outputs": [],
   "source": [
    "TAM = 100\n",
    "time = 0\n",
    "\n",
    "def left(i):\n",
    "    return 2*i+1\n",
    "\n",
    "def right(i):\n",
    "    return 2*i+2\n",
    "\n",
    "def swap(heap, x, y):\n",
    "    tmp = heap[x]\n",
    "    heap[x] = heap[y]\n",
    "    heap[y] = tmp"
   ]
  },
  {
   "cell_type": "code",
   "execution_count": null,
   "metadata": {
    "collapsed": true
   },
   "outputs": [],
   "source": [
    "def MaxHeapify(heap, heapSize, rootId):\n",
    "    largest = rootId\n",
    "    L = left(rootId)\n",
    "    R = right(rootId)\n",
    "    \n",
    "    if L < heapSize and heap[rootId] < heap[L]:\n",
    "        largest = L\n",
    "    \n",
    "    if R < heapSize and heap[largest] < heap[R]:\n",
    "        largest = R\n",
    "    \n",
    "    if largest != rootId:\n",
    "        swap(heap, largest, rootId)\n",
    "        MaxHeapify(heap, heapSize, largest)"
   ]
  },
  {
   "cell_type": "code",
   "execution_count": null,
   "metadata": {
    "collapsed": true
   },
   "outputs": [],
   "source": [
    "def BuildMaxHeap(heap):\n",
    "    heapSize = len(heap)\n",
    "    for nodeId in range(heapSize, -1, -1):\n",
    "        MaxHeapify(heap, heapSize, nodeId)"
   ]
  },
  {
   "cell_type": "code",
   "execution_count": null,
   "metadata": {
    "collapsed": true
   },
   "outputs": [],
   "source": [
    "def HeapSort(heap):\n",
    "    BuildMaxHeap(heap)\n",
    "    heapSize = len(heap)\n",
    "    for i in range(heapSize-1, 0, -1):\n",
    "        #heap[i], heap[0] = heap[0], heap[i]\n",
    "        swap(heap, 0, i)\n",
    "        MaxHeapify(heap, i, 0)"
   ]
  },
  {
   "cell_type": "code",
   "execution_count": null,
   "metadata": {
    "collapsed": true
   },
   "outputs": [],
   "source": [
    "A = []\n",
    "for j in range(10):\n",
    "    time = 0\n",
    "    A.append(random.randrange(1,100))\n",
    "\n",
    "print(A)\n",
    "HeapSort(A)\n",
    "print(A)"
   ]
  },
  {
   "cell_type": "code",
   "execution_count": null,
   "metadata": {
    "collapsed": true
   },
   "outputs": [],
   "source": [
    "def MaxHeapifyGraph(heap, heapSize, rootId):\n",
    "    global time\n",
    "    time += 1\n",
    "    largest = rootId\n",
    "    L = left(rootId)\n",
    "    R = right(rootId)\n",
    "    \n",
    "    if L < heapSize and heap[rootId] < heap[L]:\n",
    "        largest = L\n",
    "    \n",
    "    if R < heapSize and heap[largest] < heap[R]:\n",
    "        largest = R\n",
    "    \n",
    "    if largest != rootId:\n",
    "        swap(heap, largest, rootId)\n",
    "        MaxHeapifyGraph(heap, heapSize, largest)"
   ]
  },
  {
   "cell_type": "code",
   "execution_count": null,
   "metadata": {
    "collapsed": true
   },
   "outputs": [],
   "source": [
    "def BuildMaxHeapGraph(heap):\n",
    "    global time\n",
    "    heapSize = len(heap)\n",
    "    for node in range(heapSize, -1, -1):\n",
    "        time += 1\n",
    "        MaxHeapifyGraph(heap, heapSize, node)"
   ]
  },
  {
   "cell_type": "code",
   "execution_count": null,
   "metadata": {
    "collapsed": true
   },
   "outputs": [],
   "source": [
    "def HeapSortGraph(heap):\n",
    "    global time\n",
    "    BuildMaxHeapGraph(heap)\n",
    "    heapSize = len(heap)\n",
    "    for i in range(heapSize-1, 0, -1):\n",
    "        time += 1\n",
    "        swap(heap, 0, i)\n",
    "        MaxHeapifyGraph(heap, i, 0)"
   ]
  },
  {
   "cell_type": "code",
   "execution_count": null,
   "metadata": {
    "collapsed": true
   },
   "outputs": [],
   "source": [
    "global time\n",
    "x = list(range(1,TAM + 1,1))\n",
    "y_omega = []\n",
    "y_efedeene = []\n",
    "y_omicron = []\n",
    "L = []\n",
    "\n",
    "for num in x:\n",
    "    # Random list\n",
    "    L = []\n",
    "    for i in range(1, num+1, 1):\n",
    "        L.append(random.randint(1, TAM*10))\n",
    "    \n",
    "    # average case\n",
    "    time = 0\n",
    "    HeapSortGraph(L)\n",
    "    y_efedeene.append(time)\n",
    "    \n",
    "    # best case\n",
    "    L.sort()\n",
    "    time = 0\n",
    "    HeapSortGraph(L)\n",
    "    y_omega.append(time)\n",
    "    \n",
    "    # worst case\n",
    "    L.sort()\n",
    "    L.reverse()\n",
    "    time = 0\n",
    "    HeapSortGraph(L)\n",
    "    y_omicron.append(time)\n",
    "\n",
    "\n",
    "print(y_omega)\n",
    "print(y_efedeene)\n",
    "print(y_omicron)"
   ]
  },
  {
   "cell_type": "code",
   "execution_count": null,
   "metadata": {
    "collapsed": true
   },
   "outputs": [],
   "source": [
    "fig, ax = plt.subplots(facecolor='w', edgecolor='k')\n",
    "ax.plot(x, y_omega, marker=\"o\",color=\"b\", linestyle='None')\n",
    "ax.set_xlabel('x')\n",
    "ax.set_ylabel('y')\n",
    "ax.grid(True)\n",
    "ax.legend([\"heap sort\"])\n",
    "plt.title('heap sort (best case)')\n",
    "plt.show()\n",
    "\n",
    "fig, ax = plt.subplots(facecolor='w', edgecolor='k')\n",
    "ax.plot(x, y_efedeene, marker=\"o\",color=\"b\", linestyle='None')\n",
    "ax.set_xlabel('x')\n",
    "ax.set_ylabel('y')\n",
    "ax.grid(True)\n",
    "ax.legend([\"heap sort\"])\n",
    "plt.title('heap sort (average case)')\n",
    "plt.show()\n",
    "\n",
    "fig, ax = plt.subplots(facecolor='w', edgecolor='k')\n",
    "ax.plot(x, y_omicron, marker=\"o\",color=\"b\", linestyle='None')\n",
    "ax.set_xlabel('x')\n",
    "ax.set_ylabel('y')\n",
    "ax.grid(True)\n",
    "ax.legend([\"heap sort\"])\n",
    "plt.title('heap sort (worst case)')\n",
    "plt.show()"
   ]
  },
  {
   "cell_type": "code",
   "execution_count": null,
   "metadata": {
    "collapsed": true
   },
   "outputs": [],
   "source": []
  }
 ],
 "metadata": {
  "anaconda-cloud": {},
  "kernelspec": {
   "display_name": "Python 3",
   "language": "python",
   "name": "python3"
  },
  "language_info": {
   "codemirror_mode": {
    "name": "ipython",
    "version": 3
   },
   "file_extension": ".py",
   "mimetype": "text/x-python",
   "name": "python",
   "nbconvert_exporter": "python",
   "pygments_lexer": "ipython3",
   "version": "3.6.3"
  }
 },
 "nbformat": 4,
 "nbformat_minor": 1
}
