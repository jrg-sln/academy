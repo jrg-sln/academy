{
 "cells": [
  {
   "cell_type": "markdown",
   "metadata": {},
   "source": [
    "## Search"
   ]
  },
  {
   "cell_type": "code",
   "execution_count": 3,
   "metadata": {
    "collapsed": false
   },
   "outputs": [
    {
     "name": "stdout",
     "output_type": "stream",
     "text": [
      "Populating the interactive namespace from numpy and matplotlib\n"
     ]
    }
   ],
   "source": [
    "%pylab inline\n",
    "import matplotlib.pyplot as plt\n",
    "from mpl_toolkits.mplot3d import Axes3D"
   ]
  },
  {
   "cell_type": "code",
   "execution_count": 32,
   "metadata": {
    "collapsed": false
   },
   "outputs": [],
   "source": [
    "TAM = 21\n",
    "\n",
    "def search(entList, entKey):\n",
    "    i = 0\n",
    "    while i < len(entList):\n",
    "        if(entList[i] == entKey):\n",
    "            return i\n",
    "        i+=1\n",
    "    return -1\n"
   ]
  },
  {
   "cell_type": "code",
   "execution_count": 33,
   "metadata": {
    "collapsed": false
   },
   "outputs": [
    {
     "name": "stdout",
     "output_type": "stream",
     "text": [
      "El número buscado no se encuentra en el conjunto [15, 15, 75, 82, 31, 27, 94, 7, 89, 62, 36, 17, 18, 89, 48, 53, 79, 63, 13, 79]\n"
     ]
    }
   ],
   "source": [
    "l = []\n",
    "for i in range(1, TAM, 1):\n",
    "    l.append(random.randint(1, 100))\n",
    "\n",
    "k = 50\n",
    "res = search(l, k)\n",
    "    \n",
    "if res >= 0:\n",
    "    print(\"El número\", key, \" se encuentra en la posición \", res, \" del conjunto \", l)\n",
    "else:\n",
    "    print(\"El número buscado no se encuentra en el conjunto\", l)\n",
    "key = 50\n"
   ]
  },
  {
   "cell_type": "markdown",
   "metadata": {},
   "source": [
    "## Dell"
   ]
  },
  {
   "cell_type": "code",
   "execution_count": 34,
   "metadata": {
    "collapsed": true
   },
   "outputs": [],
   "source": [
    "def del_item (entList, entKey):\n",
    "    res = search(entList, entKey)\n",
    "    if res >= 0:\n",
    "        del(entList[res])\n",
    "    else:\n",
    "        print(\"El elemento\", entKey, \" no se encuentra en el conjunto\")\n",
    "    print(entList)"
   ]
  },
  {
   "cell_type": "code",
   "execution_count": 36,
   "metadata": {
    "collapsed": false
   },
   "outputs": [
    {
     "name": "stdout",
     "output_type": "stream",
     "text": [
      "50\n",
      "[86, 50, 59, 87, 40, 45, 14, 86, 41, 75, 60, 84, 73, 27, 47, 30, 50, 93, 22, 48]\n",
      "del_item\n",
      "[86, 59, 87, 40, 45, 14, 86, 41, 75, 60, 84, 73, 27, 47, 30, 50, 93, 22, 48]\n"
     ]
    }
   ],
   "source": [
    "l = []\n",
    "for i in range(1, TAM, 1):\n",
    "    l.append(random.randint(1, 100))\n",
    "\n",
    "key = 50\n",
    "print(key)\n",
    "print(l)\n",
    "print(\"del_item\")\n",
    "del_item(l, key)"
   ]
  },
  {
   "cell_type": "markdown",
   "metadata": {},
   "source": [
    "## Minimum"
   ]
  },
  {
   "cell_type": "code",
   "execution_count": 37,
   "metadata": {
    "collapsed": false
   },
   "outputs": [],
   "source": [
    "def minimum(entList):\n",
    "    i = 0\n",
    "    if len(entList) == 0:\n",
    "        return -1\n",
    "    else:\n",
    "        if len(entList)==1:\n",
    "            return entList[i]\n",
    "        else:\n",
    "            min = entList[i]\n",
    "            while i < len(entList):\n",
    "                if entList[i] < min:\n",
    "                    min = entList[i]\n",
    "                i += 1\n",
    "            return min\n",
    "        "
   ]
  },
  {
   "cell_type": "code",
   "execution_count": 52,
   "metadata": {
    "collapsed": false
   },
   "outputs": [
    {
     "name": "stdout",
     "output_type": "stream",
     "text": [
      "[39, 49, 50, 1, 86, 42, 25, 13, 18, 28, 9, 23, 51, 34, 98, 14, 50, 60, 21, 52]\n",
      "minimum\n",
      "1\n"
     ]
    }
   ],
   "source": [
    "l = []\n",
    "for i in range(1, TAM, 1):\n",
    "    l.append(random.randint(1, 100))\n",
    "\n",
    "print(l)\n",
    "print(\"minimum\")\n",
    "print(minimum(l))"
   ]
  },
  {
   "cell_type": "markdown",
   "metadata": {},
   "source": [
    "## Maximum"
   ]
  },
  {
   "cell_type": "code",
   "execution_count": null,
   "metadata": {
    "collapsed": true
   },
   "outputs": [],
   "source": [
    "def maximum(entList):\n",
    "    i = 0\n",
    "    if len(entList) == 0:\n",
    "        return -1\n",
    "    else:\n",
    "        if len(entList)==1:\n",
    "            return entList[i]\n",
    "        else:\n",
    "            max = entList[i]\n",
    "            while i < len(entList):\n",
    "                if entList[i] > max:\n",
    "                    max = entList[i]\n",
    "                i += 1\n",
    "            return max\n",
    "        "
   ]
  },
  {
   "cell_type": "code",
   "execution_count": null,
   "metadata": {
    "collapsed": false
   },
   "outputs": [],
   "source": [
    "l = []\n",
    "for i in range(1, TAM, 1):\n",
    "    l.append(random.randint(1, 100))\n",
    "\n",
    "print(l)\n",
    "print(\"maximum\")\n",
    "print(maximum(l))"
   ]
  },
  {
   "cell_type": "markdown",
   "metadata": {},
   "source": [
    "## Successor"
   ]
  },
  {
   "cell_type": "code",
   "execution_count": null,
   "metadata": {
    "collapsed": true
   },
   "outputs": [],
   "source": [
    "def successor (entList, entKey):\n",
    "    res = search(entList, entKey)\n",
    "    if res == -1:\n",
    "        print(\"El elemento\", entKey, \"no existe en el conjunto\")\n",
    "    else:\n",
    "        if res < len(entList)-1:\n",
    "            print(\"El sucesor de\", entKey, \"es\", entList[res+1])\n",
    "        else:\n",
    "            print(entKey, \"no tiene sucesor\")"
   ]
  },
  {
   "cell_type": "code",
   "execution_count": null,
   "metadata": {
    "collapsed": false
   },
   "outputs": [],
   "source": [
    "l = []\n",
    "for i in range(1, TAM, 1):\n",
    "    l.append(random.randint(1, 100))\n",
    "\n",
    "key = 50\n",
    "print(key)\n",
    "print(l)\n",
    "print(\"successor\")\n",
    "successor(l, key)"
   ]
  },
  {
   "cell_type": "markdown",
   "metadata": {},
   "source": [
    "## Predecessor"
   ]
  },
  {
   "cell_type": "code",
   "execution_count": null,
   "metadata": {
    "collapsed": true
   },
   "outputs": [],
   "source": [
    "def predecessor (entList, entKey):\n",
    "    res = search(entList, entKey)\n",
    "    if res == -1:\n",
    "        print(\"El elemento\", entKey, \"no existe en el conjunto\")\n",
    "    else:\n",
    "        if res > 0:\n",
    "            print(\"El predecesor de\", entKey, \"es\", entList[res-1])\n",
    "        else:\n",
    "            print(entKey, \"no tiene predecesor\")\n",
    "    "
   ]
  },
  {
   "cell_type": "code",
   "execution_count": null,
   "metadata": {
    "collapsed": false
   },
   "outputs": [],
   "source": [
    "l = []\n",
    "for i in range(1, TAM, 1):\n",
    "    l.append(random.randint(1, 100))\n",
    "\n",
    "key = 50\n",
    "print(key)\n",
    "print(l)\n",
    "print(\"predecessor\")\n",
    "predecessor(l, key)"
   ]
  },
  {
   "cell_type": "markdown",
   "metadata": {},
   "source": [
    "## Graph"
   ]
  },
  {
   "cell_type": "code",
   "execution_count": null,
   "metadata": {
    "collapsed": false
   },
   "outputs": [],
   "source": [
    "%pylab inline\n",
    "import matplotlib.pyplot as plt\n",
    "from mpl_toolkits.mplot3d import Axes3D"
   ]
  },
  {
   "cell_type": "code",
   "execution_count": null,
   "metadata": {
    "collapsed": false
   },
   "outputs": [],
   "source": [
    "x = linspace(0, 10, 20)\n",
    "print (x)"
   ]
  },
  {
   "cell_type": "code",
   "execution_count": null,
   "metadata": {
    "collapsed": false
   },
   "outputs": [],
   "source": [
    "fig, ax = plt.subplots(facecolor='w', edgecolor='k')\n",
    "ax.plot(x, sin(x), marker=\"o\",color=\"b\", linestyle='None')\n",
    "\n",
    "ax.grid(True)\n",
    "ax.set_xlabel('x')\n",
    "ax.set_ylabel('sin(x)')\n",
    "ax.legend([\"y = sin(x)\"])\n",
    "\n",
    "plt.title('Sin (x)')\n",
    "plt.show()\n",
    "\n",
    "fig.savefig(\"graph.png\") #Guardando la gráfica"
   ]
  },
  {
   "cell_type": "markdown",
   "metadata": {
    "collapsed": true
   },
   "source": [
    "## Listas variables"
   ]
  },
  {
   "cell_type": "code",
   "execution_count": 1,
   "metadata": {
    "collapsed": false
   },
   "outputs": [
    {
     "name": "stdout",
     "output_type": "stream",
     "text": [
      "1 : [1]\n",
      "2 : [1, 2]\n",
      "3 : [1, 2, 3]\n",
      "4 : [1, 2, 3, 4]\n",
      "5 : [1, 2, 3, 4, 5]\n",
      "6 : [1, 2, 3, 4, 5, 6]\n",
      "7 : [1, 2, 3, 4, 5, 6, 7]\n",
      "8 : [1, 2, 3, 4, 5, 6, 7, 8]\n",
      "9 : [1, 2, 3, 4, 5, 6, 7, 8, 9]\n",
      "10 : [1, 2, 3, 4, 5, 6, 7, 8, 9, 10]\n"
     ]
    }
   ],
   "source": [
    "x =list(range(1,11,1))\n",
    "y=[]\n",
    "L=[]\n",
    "for num in x:\n",
    "    L=list(range(1,num+1,1))\n",
    "    print(num , \":\", L)"
   ]
  },
  {
   "cell_type": "code",
   "execution_count": null,
   "metadata": {
    "collapsed": true
   },
   "outputs": [],
   "source": []
  }
 ],
 "metadata": {
  "anaconda-cloud": {},
  "kernelspec": {
   "display_name": "Python [default]",
   "language": "python",
   "name": "python3"
  },
  "language_info": {
   "codemirror_mode": {
    "name": "ipython",
    "version": 3
   },
   "file_extension": ".py",
   "mimetype": "text/x-python",
   "name": "python",
   "nbconvert_exporter": "python",
   "pygments_lexer": "ipython3",
   "version": "3.5.2"
  }
 },
 "nbformat": 4,
 "nbformat_minor": 1
}
