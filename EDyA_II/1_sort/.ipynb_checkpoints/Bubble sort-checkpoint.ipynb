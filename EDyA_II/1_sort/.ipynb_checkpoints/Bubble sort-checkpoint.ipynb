{
 "cells": [
  {
   "cell_type": "markdown",
   "metadata": {},
   "source": [
    "## Bubble sort"
   ]
  },
  {
   "cell_type": "markdown",
   "metadata": {},
   "source": [
    "El ordenamiento de la burbuja (bubble sort) es un método de intercambio directo. Es uno de los métodos de ordenamiento más simples tanto en su comprensión como en su implementación, aunque es un método muy ineficiente.\n",
    "\n",
    "El método de intercambio directo puede trabajar de dos maneras distintas: moviendo los elementos más pequeños a la izquierda del conjunto o trasladando los elementos más grandes a la derecha del conjunto (si se desea realizar un acomodo ascendente).\n"
   ]
  },
  {
   "cell_type": "code",
   "execution_count": null,
   "metadata": {},
   "outputs": [],
   "source": [
    "%pylab inline\n",
    "import matplotlib.pyplot as plt\n",
    "from mpl_toolkits.mplot3d import Axes3D\n",
    "import random"
   ]
  },
  {
   "cell_type": "code",
   "execution_count": null,
   "metadata": {
    "collapsed": true
   },
   "outputs": [],
   "source": [
    "TAM = 100\n",
    "\n",
    "def bubble_sort(entList):\n",
    "    cont = 0\n",
    "    comp = 0\n",
    "    aux = 0\n",
    "    while cont < len(entList)-1:\n",
    "        comp = len(entList)-1\n",
    "        while comp > cont:\n",
    "            if entList[comp-1] > entList[comp]:\n",
    "                aux = entList[comp-1]\n",
    "                entList[comp-1] = entList[comp]\n",
    "                entList[comp] = aux\n",
    "            comp = comp - 1\n",
    "        cont = cont + 1\n",
    "        print(entList)\n"
   ]
  },
  {
   "cell_type": "code",
   "execution_count": null,
   "metadata": {},
   "outputs": [],
   "source": [
    "l = []\n",
    "for i in range(1, 21, 1):\n",
    "    l.append(random.randint(1, 100))\n",
    "\n",
    "bubble_sort(l)\n",
    "print (l)"
   ]
  },
  {
   "cell_type": "code",
   "execution_count": null,
   "metadata": {
    "collapsed": true
   },
   "outputs": [],
   "source": [
    "def bubble_sort_graph(entList):\n",
    "    cont = 0\n",
    "    comp = 0\n",
    "    aux = 0\n",
    "    times = 0\n",
    "    while cont < len(entList)-1:\n",
    "        times = times + 1\n",
    "        comp = len(entList)-1\n",
    "        while comp > cont:\n",
    "            times = times + 1\n",
    "            if entList[comp-1] > entList[comp]:\n",
    "                aux = entList[comp-1]\n",
    "                entList[comp-1] = entList[comp]\n",
    "                entList[comp] = aux\n",
    "            comp = comp - 1\n",
    "        cont = cont + 1\n",
    "    return times"
   ]
  },
  {
   "cell_type": "code",
   "execution_count": null,
   "metadata": {},
   "outputs": [],
   "source": [
    "x = list(range(1,TAM + 1,1))\n",
    "y_omega = []\n",
    "y_efedeene = []\n",
    "y_omicron = []\n",
    "L = []\n",
    "\n",
    "for num in x:\n",
    "    # Random list\n",
    "    L = []\n",
    "    for i in range(1, num+1, 1):\n",
    "        L.append(random.randint(1, TAM*10))\n",
    "    \n",
    "    # average case\n",
    "    y_efedeene.append(bubble_sort_graph(L))\n",
    "    \n",
    "    # best case\n",
    "    L.sort()\n",
    "    y_omega.append(bubble_sort_graph(L))\n",
    "    \n",
    "    # worst case\n",
    "    L.sort()\n",
    "    L.reverse()\n",
    "    y_omicron.append(bubble_sort_graph(L))\n",
    "\n",
    "\n",
    "print(y_omega)\n",
    "print(y_efedeene)\n",
    "print(y_omicron)"
   ]
  },
  {
   "cell_type": "code",
   "execution_count": null,
   "metadata": {},
   "outputs": [],
   "source": [
    "fig, ax = plt.subplots(facecolor='w', edgecolor='k')\n",
    "ax.plot(x, y_omega, marker=\"o\",color=\"b\", linestyle='None')\n",
    "ax.set_xlabel('x')\n",
    "ax.set_ylabel('y')\n",
    "ax.grid(True)\n",
    "ax.legend([\"bubble sort\"])\n",
    "plt.title('bubble sort (best case)')\n",
    "plt.show()\n",
    "\n",
    "fig, ax = plt.subplots(facecolor='w', edgecolor='k')\n",
    "ax.plot(x, y_efedeene, marker=\"o\",color=\"b\", linestyle='None')\n",
    "ax.set_xlabel('x')\n",
    "ax.set_ylabel('y')\n",
    "ax.grid(True)\n",
    "ax.legend([\"bubble sort\"])\n",
    "plt.title('bubble sort (average case)')\n",
    "plt.show()\n",
    "\n",
    "fig, ax = plt.subplots(facecolor='w', edgecolor='k')\n",
    "ax.plot(x, y_omicron, marker=\"o\",color=\"b\", linestyle='None')\n",
    "ax.set_xlabel('x')\n",
    "ax.set_ylabel('y')\n",
    "ax.grid(True)\n",
    "ax.legend([\"bubble sort\"])\n",
    "plt.title('bubble sort (worst case)')\n",
    "plt.show()\n",
    "\n",
    "#fig.savefig(\"buble_sort.png\")"
   ]
  },
  {
   "cell_type": "code",
   "execution_count": null,
   "metadata": {
    "collapsed": true
   },
   "outputs": [],
   "source": []
  }
 ],
 "metadata": {
  "anaconda-cloud": {},
  "kernelspec": {
   "display_name": "Python 3",
   "language": "python",
   "name": "python3"
  },
  "language_info": {
   "codemirror_mode": {
    "name": "ipython",
    "version": 3
   },
   "file_extension": ".py",
   "mimetype": "text/x-python",
   "name": "python",
   "nbconvert_exporter": "python",
   "pygments_lexer": "ipython3",
   "version": "3.6.3"
  }
 },
 "nbformat": 4,
 "nbformat_minor": 1
}
