{
 "cells": [
  {
   "cell_type": "markdown",
   "metadata": {},
   "source": [
    "## Heap sort"
   ]
  },
  {
   "cell_type": "markdown",
   "metadata": {},
   "source": [
    "El algoritmo heap sort..."
   ]
  },
  {
   "cell_type": "code",
   "execution_count": null,
   "metadata": {},
   "outputs": [],
   "source": [
    "%pylab inline\n",
    "import matplotlib.pyplot as plt\n",
    "from mpl_toolkits.mplot3d import Axes3D\n",
    "import random\n",
    "import math"
   ]
  },
  {
   "cell_type": "code",
   "execution_count": null,
   "metadata": {},
   "outputs": [],
   "source": [
    "TAM = 10\n",
    "time = 0\n",
    "\n",
    "def left(i):\n",
    "    return 2*i\n",
    "\n",
    "def right(i):\n",
    "    return 2*i+1\n",
    "\n",
    "def swap(A, x, y):\n",
    "    tmp = A[x]\n",
    "    A[x] = A[y]\n",
    "    A[y] = tmp"
   ]
  },
  {
   "cell_type": "code",
   "execution_count": null,
   "metadata": {
    "collapsed": true
   },
   "outputs": [],
   "source": [
    "def MaxHeapify(A, i):\n",
    "    global time\n",
    "    heapSize = len(A)-1\n",
    "    L = left(i)\n",
    "    R = right(i)\n",
    "    if(L <= heapSize and A[L]>A[i]):\n",
    "        posMax = L\n",
    "    else:\n",
    "        posMax = i\n",
    "\n",
    "    if(R <= heapSize and A[R]>A[posMax]):\n",
    "        posMax = R\n",
    "    if(posMax != i):\n",
    "        swap(A, i, posMax)\n",
    "        MaxHeapify(A, posMax)\n",
    "    time += 1\n"
   ]
  },
  {
   "cell_type": "code",
   "execution_count": null,
   "metadata": {},
   "outputs": [],
   "source": [
    "def BuildMaxHeapIni(A):\n",
    "    global time\n",
    "    heapSize = len(A)-1\n",
    "    for i in range(math.ceil(heapSize/2)-1, 0, -1):\n",
    "        #time = MaxHeapify(A, i)\n",
    "        MaxHeapify(A, i)\n",
    "        time += 1\n",
    "        "
   ]
  },
  {
   "cell_type": "code",
   "execution_count": null,
   "metadata": {
    "collapsed": true
   },
   "outputs": [],
   "source": [
    "def heapSort(A):\n",
    "    global time\n",
    "    heapSize = len(A)-1\n",
    "    BuildMaxHeapIni(A)\n",
    "    for i in range(len(A[1:]), 1, -1):\n",
    "        swap(A, 1, i)\n",
    "        heapSize -= 1\n",
    "        MaxHeapify(A, 1)\n",
    "        time += 1"
   ]
  },
  {
   "cell_type": "code",
   "execution_count": null,
   "metadata": {},
   "outputs": [],
   "source": [
    "heap = []\n",
    "A = []\n",
    "for i in range(1, 11, 1):\n",
    "    A.append(random.randint(1, 100))\n",
    "\n",
    "print(A)\n",
    "heap_sort(A, len(A)-1)\n",
    "print (A)"
   ]
  },
  {
   "cell_type": "code",
   "execution_count": null,
   "metadata": {},
   "outputs": [],
   "source": [
    "def heap_sort_graph(entList, entP, entR):\n",
    "    cont = 0\n",
    "    if entP < entR:\n",
    "        entQ = int((entP+entR)/2)\n",
    "        cont += merge_sort_graph(entList, entP, entQ)\n",
    "        cont += merge_sort_graph(entList, entQ+1, entR)\n",
    "        cont +=union_graph(entList, entP, entQ, entR)\n",
    "    cont += 1\n",
    "    return cont\n",
    "    \n",
    "\n",
    "def create_array_graph(entList, entP, entR):\n",
    "    return entList[entP:entR+1]\n",
    "\n",
    "\n",
    "def union_graph(entList, entP, entQ, entR):\n",
    "    cont_union = 0\n",
    "    L = create_array_graph(entList, entP, entQ)\n",
    "    R = create_array_graph(entList, entQ+1, entR)\n",
    "    i = 0\n",
    "    j = 0\n",
    "    k = entP\n",
    "    while k < entR+1:\n",
    "        if j >= entR-entQ or (i < entQ-entP+1 and L[i] < R[j]):\n",
    "            entList[k] = L[i]\n",
    "            i += 1\n",
    "        else:\n",
    "            entList[k] = R[j]\n",
    "            j += 1\n",
    "        k += 1\n",
    "        cont_union += 1\n",
    "    return cont_union"
   ]
  },
  {
   "cell_type": "code",
   "execution_count": null,
   "metadata": {},
   "outputs": [],
   "source": [
    "x =list(range(1,101,1))\n",
    "y=[]\n",
    "L=[]\n",
    "for num in x:\n",
    "    L=list(range(1,num+1,1))\n",
    "    der=len(L)\n",
    "    a=num\n",
    "    y.append(merge_sort_graph(L, 0, len(L)-1))"
   ]
  },
  {
   "cell_type": "code",
   "execution_count": null,
   "metadata": {},
   "outputs": [],
   "source": [
    "fig, ax = plt.subplots(facecolor='w', edgecolor='k')\n",
    "ax.plot(x, y, marker=\"o\",color=\"b\", linestyle='None')\n",
    "\n",
    "ax.set_xlabel('x')\n",
    "ax.set_ylabel('y')\n",
    "ax.grid(True)\n",
    "ax.legend([\"merge sort\"])\n",
    "\n",
    "plt.title('merge sort')\n",
    "plt.show()\n",
    "\n",
    "fig.savefig(\"merge_sort.png\")"
   ]
  },
  {
   "cell_type": "code",
   "execution_count": null,
   "metadata": {
    "collapsed": true
   },
   "outputs": [],
   "source": []
  }
 ],
 "metadata": {
  "anaconda-cloud": {},
  "kernelspec": {
   "display_name": "Python 3",
   "language": "python",
   "name": "python3"
  },
  "language_info": {
   "codemirror_mode": {
    "name": "ipython",
    "version": 3
   },
   "file_extension": ".py",
   "mimetype": "text/x-python",
   "name": "python",
   "nbconvert_exporter": "python",
   "pygments_lexer": "ipython3",
   "version": "3.6.3"
  }
 },
 "nbformat": 4,
 "nbformat_minor": 1
}
