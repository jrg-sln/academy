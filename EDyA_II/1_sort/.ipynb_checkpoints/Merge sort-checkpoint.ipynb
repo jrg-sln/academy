{
 "cells": [
  {
   "cell_type": "markdown",
   "metadata": {},
   "source": [
    "## Merge sort"
   ]
  },
  {
   "cell_type": "markdown",
   "metadata": {},
   "source": [
    "El algoritmo de unión ordenada (merge sort) permite combinar dos conjuntos de elementos previamente ordenados, siguiendo el paradigma divide y vencerás:\n",
    "\n",
    "- Divide la secuencia de n elementos a ser ordenados en dos subsecuencias de n/2 elementos cada una.\n",
    "\n",
    "- Vence el reto ordenando recursivamente las dos subsecuencias de elementos utilizando unión ordenada.\n",
    "\n",
    "- Combina (une) las dos subsecuencias ordenadas para producir la salida ordenada.\n"
   ]
  },
  {
   "cell_type": "code",
   "execution_count": null,
   "metadata": {},
   "outputs": [],
   "source": [
    "%pylab inline\n",
    "import matplotlib.pyplot as plt\n",
    "from mpl_toolkits.mplot3d import Axes3D"
   ]
  },
  {
   "cell_type": "code",
   "execution_count": null,
   "metadata": {},
   "outputs": [],
   "source": [
    "TAM = 101\n",
    "\n",
    "def merge_sort(entList, entP, entR):\n",
    "    if entP < entR:\n",
    "        entQ = int((entP+entR)/2)\n",
    "        merge_sort(entList, entP, entQ)\n",
    "        merge_sort(entList, entQ+1, entR)\n",
    "        union (entList, entP, entQ, entR)\n"
   ]
  },
  {
   "cell_type": "code",
   "execution_count": null,
   "metadata": {
    "collapsed": true
   },
   "outputs": [],
   "source": [
    "def create_array(entList, entP, entR):\n",
    "    return entList[entP:entR+1]"
   ]
  },
  {
   "cell_type": "code",
   "execution_count": null,
   "metadata": {},
   "outputs": [],
   "source": [
    "def union (entList, entP, entQ, entR):\n",
    "    L = create_array(entList, entP, entQ)\n",
    "    R = create_array(entList, entQ+1, entR)\n",
    "    i = 0\n",
    "    j = 0\n",
    "    k = entP\n",
    "    while k < entR+1:\n",
    "        if j >= entR-entQ or (i < entQ-entP+1 and L[i] < R[j]):\n",
    "            entList[k] = L[i]\n",
    "            i += 1\n",
    "        else:\n",
    "            entList[k] = R[j]\n",
    "            j += 1\n",
    "        k += 1\n",
    "    print (entList)\n",
    "    "
   ]
  },
  {
   "cell_type": "code",
   "execution_count": null,
   "metadata": {},
   "outputs": [],
   "source": [
    "l = []\n",
    "for i in range(1, 11, 1):\n",
    "    l.append(random.randint(1, 100))\n",
    "\n",
    "print(l)\n",
    "merge_sort(l, 0, len(l)-1)\n",
    "print (l)"
   ]
  },
  {
   "cell_type": "code",
   "execution_count": null,
   "metadata": {},
   "outputs": [],
   "source": [
    "def merge_sort_graph(entList, entP, entR):\n",
    "    cont = 0\n",
    "    if entP < entR:\n",
    "        entQ = int((entP+entR)/2)\n",
    "        cont += merge_sort_graph(entList, entP, entQ)\n",
    "        cont += merge_sort_graph(entList, entQ+1, entR)\n",
    "        cont +=union_graph(entList, entP, entQ, entR)\n",
    "    cont += 1\n",
    "    return cont\n",
    "    \n",
    "\n",
    "def create_array_graph(entList, entP, entR):\n",
    "    return entList[entP:entR+1]\n",
    "\n",
    "\n",
    "def union_graph(entList, entP, entQ, entR):\n",
    "    cont_union = 0\n",
    "    L = create_array_graph(entList, entP, entQ)\n",
    "    R = create_array_graph(entList, entQ+1, entR)\n",
    "    i = 0\n",
    "    j = 0\n",
    "    k = entP\n",
    "    while k < entR+1:\n",
    "        if j >= entR-entQ or (i < entQ-entP+1 and L[i] < R[j]):\n",
    "            entList[k] = L[i]\n",
    "            i += 1\n",
    "        else:\n",
    "            entList[k] = R[j]\n",
    "            j += 1\n",
    "        k += 1\n",
    "        cont_union += 1\n",
    "    return cont_union"
   ]
  },
  {
   "cell_type": "code",
   "execution_count": null,
   "metadata": {},
   "outputs": [],
   "source": [
    "x = list(range(1,TAM + 1,1))\n",
    "y_omega = []\n",
    "y_efedeene = []\n",
    "y_omicron = []\n",
    "L = []\n",
    "\n",
    "for num in x:\n",
    "    # Random list\n",
    "    L = []\n",
    "    for i in range(1, num+1, 1):\n",
    "        L.append(random.randint(1, TAM*10))\n",
    "    \n",
    "    # average case\n",
    "    y_efedeene.append(merge_sort_graph(L, 0, len(L)-1))\n",
    "    \n",
    "    # best case\n",
    "    L.sort()\n",
    "    y_omega.append(merge_sort_graph(L, 0, len(L)-1))\n",
    "    \n",
    "    # worst case\n",
    "    L.sort()\n",
    "    L.reverse()\n",
    "    y_omicron.append(merge_sort_graph(L, 0, len(L)-1))\n",
    "\n",
    "\n",
    "print(y_omega)\n",
    "print(y_efedeene)\n",
    "print(y_omicron)"
   ]
  },
  {
   "cell_type": "code",
   "execution_count": null,
   "metadata": {},
   "outputs": [],
   "source": [
    "fig, ax = plt.subplots(facecolor='w', edgecolor='k')\n",
    "ax.plot(x, y_omega, marker=\"o\",color=\"b\", linestyle='None')\n",
    "ax.set_xlabel('x')\n",
    "ax.set_ylabel('y')\n",
    "ax.grid(True)\n",
    "ax.legend([\"merge sort\"])\n",
    "plt.title('merge sort (best case)')\n",
    "plt.show()\n",
    "\n",
    "fig, ax = plt.subplots(facecolor='w', edgecolor='k')\n",
    "ax.plot(x, y_efedeene, marker=\"o\",color=\"b\", linestyle='None')\n",
    "ax.set_xlabel('x')\n",
    "ax.set_ylabel('y')\n",
    "ax.grid(True)\n",
    "ax.legend([\"merge sort\"])\n",
    "plt.title('merge sort (average case)')\n",
    "plt.show()\n",
    "\n",
    "fig, ax = plt.subplots(facecolor='w', edgecolor='k')\n",
    "ax.plot(x, y_omicron, marker=\"o\",color=\"b\", linestyle='None')\n",
    "ax.set_xlabel('x')\n",
    "ax.set_ylabel('y')\n",
    "ax.grid(True)\n",
    "ax.legend([\"merge sort\"])\n",
    "plt.title('merge sort (worst case)')\n",
    "plt.show()"
   ]
  },
  {
   "cell_type": "code",
   "execution_count": null,
   "metadata": {
    "collapsed": true
   },
   "outputs": [],
   "source": []
  }
 ],
 "metadata": {
  "anaconda-cloud": {},
  "kernelspec": {
   "display_name": "Python 3",
   "language": "python",
   "name": "python3"
  },
  "language_info": {
   "codemirror_mode": {
    "name": "ipython",
    "version": 3
   },
   "file_extension": ".py",
   "mimetype": "text/x-python",
   "name": "python",
   "nbconvert_exporter": "python",
   "pygments_lexer": "ipython3",
   "version": "3.6.3"
  }
 },
 "nbformat": 4,
 "nbformat_minor": 1
}
