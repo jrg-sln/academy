{
 "cells": [
  {
   "cell_type": "markdown",
   "metadata": {},
   "source": [
    "## Counting sort"
   ]
  },
  {
   "cell_type": "markdown",
   "metadata": {},
   "source": [
    "El algoritmo counting sort se basa en determinar para cada elemento x del conjunto, el número de elementos menores a x. Con esa información, es posible poner el elemento x en su posición correcta dentro del conjunto ordenado.\n",
    "\n",
    "El algoritmo counting sort asume que los elementos que conforman el conjunto son enteros positivos (incluyendo a cero)."
   ]
  },
  {
   "cell_type": "code",
   "execution_count": 1,
   "metadata": {},
   "outputs": [
    {
     "name": "stdout",
     "output_type": "stream",
     "text": [
      "Populating the interactive namespace from numpy and matplotlib\n"
     ]
    }
   ],
   "source": [
    "# https://www.geeksforgeeks.org/sorting-algorithms/\n",
    "\n",
    "%pylab inline\n",
    "import matplotlib.pyplot as plt\n",
    "from mpl_toolkits.mplot3d import Axes3D\n",
    "import random"
   ]
  },
  {
   "cell_type": "code",
   "execution_count": 2,
   "metadata": {
    "collapsed": true
   },
   "outputs": [],
   "source": [
    "def counting_sort_chars(A):\n",
    "    MAX = 256\n",
    "    B = [0 for i in range(len(A))]\n",
    "    C = [0 for i in range(MAX)]\n",
    " \n",
    "    i = 0\n",
    "    while i < len(A):\n",
    "        C[ord(A[i])] += 1\n",
    "        i += 1\n",
    "\n",
    "    i = 1\n",
    "    while i < len(C):\n",
    "        C[i] += C[i-1]\n",
    "        i += 1\n",
    " \n",
    "    i = 0\n",
    "    while i < len(A):\n",
    "        B[C[ord(A[i])]-1] = A[i]\n",
    "        C[ord(A[i])] -= 1\n",
    "        i += 1\n",
    "\n",
    "    return B"
   ]
  },
  {
   "cell_type": "code",
   "execution_count": 3,
   "metadata": {},
   "outputs": [
    {
     "name": "stdout",
     "output_type": "stream",
     "text": [
      "['i', 'r', 'i', 'y', 'j', 'h', 'p', 'q', 'y', 'q', 'h', 'z', 'p', 's', 'f', 'f', 'x', 'f', 'x', 'b']\n",
      "['b', 'f', 'f', 'f', 'h', 'h', 'i', 'i', 'j', 'p', 'p', 'q', 'q', 'r', 's', 'x', 'x', 'y', 'y', 'z']\n"
     ]
    }
   ],
   "source": [
    "TAM = 21\n",
    "abc = ['a','b','c','d','e','f','g','h','i','j','k','l','m','n','o','p','q','r','s','t','u','v','w','x','y','z']\n",
    "\n",
    "arr = []\n",
    "for i in range(1, TAM, 1):\n",
    "    arr.append(abc[random.randint(0, len(abc)-1)])\n",
    "    \n",
    "print(arr)\n",
    "ans = counting_sort_chars(arr)\n",
    "print(ans)"
   ]
  },
  {
   "cell_type": "code",
   "execution_count": 4,
   "metadata": {
    "collapsed": true
   },
   "outputs": [],
   "source": [
    "class Node:\n",
    "    def __init__(self, number, name, lastname, email, sex):\n",
    "        self.identifier = number\n",
    "        self.name = name\n",
    "        self.last_name = lastname\n",
    "        self.email = email\n",
    "        self.sex = sex[0]\n",
    "        \n",
    "    def __str__(self):\n",
    "        return self.name + \":\" + self.email\n",
    "        #return self.name"
   ]
  },
  {
   "cell_type": "code",
   "execution_count": 5,
   "metadata": {
    "collapsed": true
   },
   "outputs": [],
   "source": [
    "def counting_sort_node(nodeList):\n",
    "    MAX = 128\n",
    "    output = [0 for i in range(len(nodeList))]\n",
    "    count = [0 for i in range(MAX)]\n",
    "    \n",
    "    for i in nodeList:\n",
    "        count[ord(i.name[0])] += 1\n",
    "    \n",
    "    for i in range(MAX):\n",
    "        count[i] += count[i-1]\n",
    "    \n",
    "    for i in range(len(nodeList)):\n",
    "        output[count[ord(nodeList[i].name[0])]-1] = nodeList[i]\n",
    "        count[ord(nodeList[i].name[0])] -= 1\n",
    "    \n",
    "    return output"
   ]
  },
  {
   "cell_type": "code",
   "execution_count": 6,
   "metadata": {},
   "outputs": [
    {
     "name": "stdout",
     "output_type": "stream",
     "text": [
      "List\n",
      "Cori:cwissby0@netlog.com\n",
      "Barri:bminter1@webeden.co.uk\n",
      "Elyssa:eoshirine2@elegantthemes.com\n",
      "Mendie:mbransom3@qq.com\n",
      "Faulkner:fpoulney4@wix.com\n",
      "Farr:fdungay5@cbslocal.com\n",
      "Ty:tflemming6@reference.com\n",
      "Stephenie:syarrell7@sina.com.cn\n",
      "Angil:alawman8@biglobe.ne.jp\n",
      "Sorcha:smotherwell9@patch.com\n",
      "\n",
      "sort list\n",
      "Angil:alawman8@biglobe.ne.jp\n",
      "Barri:bminter1@webeden.co.uk\n",
      "Cori:cwissby0@netlog.com\n",
      "Elyssa:eoshirine2@elegantthemes.com\n",
      "Farr:fdungay5@cbslocal.com\n",
      "Faulkner:fpoulney4@wix.com\n",
      "Mendie:mbransom3@qq.com\n",
      "Sorcha:smotherwell9@patch.com\n",
      "Stephenie:syarrell7@sina.com.cn\n",
      "Ty:tflemming6@reference.com\n"
     ]
    }
   ],
   "source": [
    "arr = []\n",
    "file = open(\"DATA_10.csv\", \"r\")\n",
    "for line in file:\n",
    "    fields = line.split(\",\")\n",
    "    arr.append(Node(fields[0], fields[1], fields[2], fields[3], fields[4]))\n",
    "        \n",
    "print(\"List\")\n",
    "for node in arr:\n",
    "    print(node)\n",
    "    \n",
    "ans = counting_sort_node(arr)\n",
    "print(\"\\nsort list\")\n",
    "\n",
    "for node in ans:\n",
    "    print(node)"
   ]
  },
  {
   "cell_type": "code",
   "execution_count": 7,
   "metadata": {
    "collapsed": true
   },
   "outputs": [],
   "source": [
    "def counting_sort_graph(nodeList):\n",
    "    cont = 0\n",
    "    MAX = 128\n",
    "    output = [0 for i in range(len(nodeList))]\n",
    "    count = [0 for i in range(MAX)]\n",
    "    \n",
    "    for i in nodeList:\n",
    "        cont += 1\n",
    "        count[ord(i.name[0])] += 1\n",
    "    \n",
    "    for i in range(MAX):\n",
    "        cont += 1\n",
    "        count[i] += count[i-1]\n",
    "    \n",
    "    for i in range(len(nodeList)):\n",
    "        cont += 1\n",
    "        output[count[ord(nodeList[i].name[0])]-1] = nodeList[i]\n",
    "        count[ord(nodeList[i].name[0])] -= 1\n",
    "    \n",
    "    return cont"
   ]
  },
  {
   "cell_type": "code",
   "execution_count": 8,
   "metadata": {
    "collapsed": true
   },
   "outputs": [],
   "source": [
    "TAM = 101\n",
    "x = list(range(1,TAM,1))\n",
    "y_omega = []\n",
    "y_efedeene = []\n",
    "y_omicron = []\n",
    "L = []\n",
    "for num in x:\n",
    "    iter = 1\n",
    "    file = open(\"DATA_10000.csv\", \"r\")\n",
    "    L = []\n",
    "    for line in file:\n",
    "        fields = line.split(\",\")\n",
    "        L.append(Node(fields[0], fields[1], fields[2], fields[3], fields[4]))\n",
    "        \n",
    "        if iter == num:\n",
    "            break\n",
    "        iter += 1\n",
    "    \n",
    "    # average case\n",
    "    y_efedeene.append(counting_sort_graph(L))\n",
    "\n",
    "    # best case\n",
    "    y_omega.append(counting_sort_graph(L))\n",
    "\n",
    "    # worst case\n",
    "    y_omicron.append(counting_sort_graph(L))"
   ]
  },
  {
   "cell_type": "code",
   "execution_count": 9,
   "metadata": {},
   "outputs": [
    {
     "data": {
      "image/png": "[encoded data removed]",
      "text/plain": [
       "<matplotlib.figure.Figure at 0x1076f3828>"
      ]
     },
     "metadata": {},
     "output_type": "display_data"
    },
    {
     "data": {
      "image/png": "[encoded data removed]",
      "text/plain": [
       "<matplotlib.figure.Figure at 0x107b3fb70>"
      ]
     },
     "metadata": {},
     "output_type": "display_data"
    },
    {
     "data": {
      "image/png": "[encoded data removed]",
      "text/plain": [
       "<matplotlib.figure.Figure at 0x10cb347f0>"
      ]
     },
     "metadata": {},
     "output_type": "display_data"
    }
   ],
   "source": [
    "fig, ax = plt.subplots(facecolor='w', edgecolor='k')\n",
    "ax.plot(x, y_omega, marker=\"o\",color=\"b\", linestyle='None')\n",
    "ax.set_xlabel('x')\n",
    "ax.set_ylabel('y')\n",
    "ax.grid(True)\n",
    "ax.legend([\"counting sort\"])\n",
    "plt.title('counting sort (best case)')\n",
    "plt.show()\n",
    "\n",
    "fig, ax = plt.subplots(facecolor='w', edgecolor='k')\n",
    "ax.plot(x, y_efedeene, marker=\"o\",color=\"b\", linestyle='None')\n",
    "ax.set_xlabel('x')\n",
    "ax.set_ylabel('y')\n",
    "ax.grid(True)\n",
    "ax.legend([\"counting sort\"])\n",
    "plt.title('counting sort (average case)')\n",
    "plt.show()\n",
    "\n",
    "fig, ax = plt.subplots(facecolor='w', edgecolor='k')\n",
    "ax.plot(x, y_omicron, marker=\"o\",color=\"b\", linestyle='None')\n",
    "ax.set_xlabel('x')\n",
    "ax.set_ylabel('y')\n",
    "ax.grid(True)\n",
    "ax.legend([\"counting sort\"])\n",
    "plt.title('counting sort (worst case)')\n",
    "plt.show()"
   ]
  },
  {
   "cell_type": "code",
   "execution_count": null,
   "metadata": {
    "collapsed": true
   },
   "outputs": [],
   "source": []
  }
 ],
 "metadata": {
  "kernelspec": {
   "display_name": "Python 3",
   "language": "python",
   "name": "python3"
  },
  "language_info": {
   "codemirror_mode": {
    "name": "ipython",
    "version": 3
   },
   "file_extension": ".py",
   "mimetype": "text/x-python",
   "name": "python",
   "nbconvert_exporter": "python",
   "pygments_lexer": "ipython3",
   "version": "3.6.3"
  }
 },
 "nbformat": 4,
 "nbformat_minor": 2
}
