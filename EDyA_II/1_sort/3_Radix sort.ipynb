{
 "cells": [
  {
   "cell_type": "markdown",
   "metadata": {},
   "source": [
    "## Radix sort"
   ]
  },
  {
   "cell_type": "markdown",
   "metadata": {},
   "source": [
    "El ordenamiento radix (radix sort) es el más representativo de los métodos de distribución. Es un algoritmo de ordenamiento estable que puede ser usado para ordenar elementos identificados por llaves (o claves) únicas. Cada llave debe ser una cadena o un número capaz de ser ordenada alfanuméricamente."
   ]
  },
  {
   "cell_type": "code",
   "execution_count": 1,
   "metadata": {},
   "outputs": [
    {
     "name": "stdout",
     "output_type": "stream",
     "text": [
      "Populating the interactive namespace from numpy and matplotlib\n"
     ]
    }
   ],
   "source": [
    "# https://www.geeksforgeeks.org/sorting-algorithms/\n",
    "\n",
    "%pylab inline\n",
    "import matplotlib.pyplot as plt\n",
    "from mpl_toolkits.mplot3d import Axes3D"
   ]
  },
  {
   "cell_type": "code",
   "execution_count": 2,
   "metadata": {
    "collapsed": true
   },
   "outputs": [],
   "source": [
    "def bucket_sort(arr, exp, base):\n",
    "    n = len(arr)\n",
    "    output = [0] * (n)\n",
    "    count = [0] * (base)\n",
    "\n",
    "    for i in range(0, n):\n",
    "        index = (arr[i]//exp)\n",
    "        count[(index)%base] += 1\n",
    "    \n",
    "    for i in range(1,base):\n",
    "        count[i] += count[i-1]\n",
    "    \n",
    "    i = n-1\n",
    "    while i>=0:\n",
    "        index = (arr[i]//exp)\n",
    "        output[count[(index)%base] - 1] = arr[i]\n",
    "        count[(index)%base] -= 1\n",
    "        i -= 1\n",
    "\n",
    "    for i in range(0,len(arr)):\n",
    "        arr[i] = output[i]"
   ]
  },
  {
   "cell_type": "code",
   "execution_count": 3,
   "metadata": {
    "collapsed": true
   },
   "outputs": [],
   "source": [
    "def radix_sort(arr):\n",
    "    max_digits = len(str(max(arr)))\n",
    "    exp = 1\n",
    "    digit = 0\n",
    "    \n",
    "    while digit < max_digits:\n",
    "        bucket_sort(arr, exp, 10)\n",
    "        digit += 1\n",
    "        exp *= 10"
   ]
  },
  {
   "cell_type": "code",
   "execution_count": 4,
   "metadata": {},
   "outputs": [
    {
     "name": "stdout",
     "output_type": "stream",
     "text": [
      "[54, 3, 93, 45, 15, 33, 15, 78, 69, 62]\n",
      "[3, 15, 15, 33, 45, 54, 62, 69, 78, 93]\n"
     ]
    }
   ],
   "source": [
    "num = 10\n",
    "TAM = 100\n",
    "arr =[] \n",
    "for i in range(1, num+1, 1):\n",
    "    arr.append(random.randint(1, TAM))\n",
    "    \n",
    "print(arr)\n",
    "radix_sort(arr)\n",
    "print(arr)"
   ]
  },
  {
   "cell_type": "code",
   "execution_count": 5,
   "metadata": {
    "collapsed": true
   },
   "outputs": [],
   "source": [
    "class Node:\n",
    "    def __init__(self, number, name, lastname, email, sex):\n",
    "        self.identifier = number\n",
    "        self.name = name\n",
    "        self.last_name = lastname\n",
    "        self.email = email\n",
    "        self.sex = sex[0]\n",
    "        \n",
    "    def __str__(self):\n",
    "        return self.name + \": \" + self.email\n",
    "        #return self.name"
   ]
  },
  {
   "cell_type": "code",
   "execution_count": 6,
   "metadata": {
    "collapsed": true
   },
   "outputs": [],
   "source": [
    "def bucket_sort_node(arr, exp, base):\n",
    "    n = len(arr)\n",
    "    output = [0] * (n)\n",
    "    count = [0] * (base)\n",
    "\n",
    "    for i in range(0, n):\n",
    "        index = (ord(arr[i].name[0])//exp)\n",
    "        count[(index)%base] += 1\n",
    "    \n",
    "    for i in range(1,base):\n",
    "        count[i] += count[i-1]\n",
    "    \n",
    "    i = n-1\n",
    "    while i>=0:\n",
    "        index = (ord(arr[i].name[0])//exp)\n",
    "        output[count[(index)%base] - 1] = arr[i]\n",
    "        count[(index)%base] -= 1\n",
    "        i -= 1\n",
    "\n",
    "    for i in range(0,len(arr)):\n",
    "        arr[i] = output[i]"
   ]
  },
  {
   "cell_type": "code",
   "execution_count": 7,
   "metadata": {
    "collapsed": true
   },
   "outputs": [],
   "source": [
    "def radix_sort_node(arr):\n",
    "    max_digits = len(str(max(node.name for node in arr)))\n",
    "    exp = 1\n",
    "    digit = 0\n",
    "    \n",
    "    while digit < max_digits:\n",
    "        bucket_sort_node(arr, exp, 128)\n",
    "        digit += 1\n",
    "        exp *= 10"
   ]
  },
  {
   "cell_type": "code",
   "execution_count": 8,
   "metadata": {},
   "outputs": [
    {
     "name": "stdout",
     "output_type": "stream",
     "text": [
      "List\n",
      "Cori: cwissby0@netlog.com\n",
      "Barri: bminter1@webeden.co.uk\n",
      "Elyssa: eoshirine2@elegantthemes.com\n",
      "Mendie: mbransom3@qq.com\n",
      "Faulkner: fpoulney4@wix.com\n",
      "Farr: fdungay5@cbslocal.com\n",
      "Ty: tflemming6@reference.com\n",
      "Stephenie: syarrell7@sina.com.cn\n",
      "Angil: alawman8@biglobe.ne.jp\n",
      "Sorcha: smotherwell9@patch.com\n",
      "\n",
      "sort list\n",
      "Angil: alawman8@biglobe.ne.jp\n",
      "Barri: bminter1@webeden.co.uk\n",
      "Cori: cwissby0@netlog.com\n",
      "Elyssa: eoshirine2@elegantthemes.com\n",
      "Faulkner: fpoulney4@wix.com\n",
      "Farr: fdungay5@cbslocal.com\n",
      "Mendie: mbransom3@qq.com\n",
      "Stephenie: syarrell7@sina.com.cn\n",
      "Sorcha: smotherwell9@patch.com\n",
      "Ty: tflemming6@reference.com\n"
     ]
    }
   ],
   "source": [
    "arr = []\n",
    "file = open(\"DATA_10.csv\", \"r\")\n",
    "for line in file:\n",
    "    fields = line.split(\",\")\n",
    "    arr.append(Node(fields[0], fields[1], fields[2], fields[3], fields[4]))\n",
    "        \n",
    "print(\"List\")\n",
    "for node in arr:\n",
    "    print(node)\n",
    "    \n",
    "radix_sort_node(arr)\n",
    "print(\"\\nsort list\")\n",
    "\n",
    "for node in arr:\n",
    "    print(node)"
   ]
  },
  {
   "cell_type": "code",
   "execution_count": 9,
   "metadata": {
    "collapsed": true
   },
   "outputs": [],
   "source": [
    "def bucket_sort_graph(arr, exp, base):\n",
    "    global times\n",
    "    n = len(arr)\n",
    "    output = [0] * (n)\n",
    "    count = [0] * (base)\n",
    "\n",
    "    for i in range(0, n):\n",
    "        times += 1\n",
    "        index = (ord(arr[i].name[0])//exp)\n",
    "        count[(index)%base] += 1\n",
    "    \n",
    "    for i in range(1,base):\n",
    "        times += 1\n",
    "        count[i] += count[i-1]\n",
    "    \n",
    "    i = n-1\n",
    "    while i>=0:\n",
    "        times += 1\n",
    "        index = (ord(arr[i].name[0])//exp)\n",
    "        output[count[(index)%base] - 1] = arr[i]\n",
    "        count[(index)%base] -= 1\n",
    "        i -= 1\n",
    "\n",
    "    for i in range(0,len(arr)):\n",
    "        arr[i] = output[i]"
   ]
  },
  {
   "cell_type": "code",
   "execution_count": 10,
   "metadata": {
    "collapsed": true
   },
   "outputs": [],
   "source": [
    "def radix_sort_graph(arr):\n",
    "    global times\n",
    "    max_digits = len(str(max(node.name for node in arr)))\n",
    "    exp = 1\n",
    "    digit = 0\n",
    "    \n",
    "    while digit < max_digits:\n",
    "        times += 1\n",
    "        bucket_sort_graph(arr, exp, 128)\n",
    "        digit += 1\n",
    "        exp *= 10"
   ]
  },
  {
   "cell_type": "code",
   "execution_count": 11,
   "metadata": {},
   "outputs": [],
   "source": [
    "TAM = 1001\n",
    "x = list(range(1,TAM,1))\n",
    "y_omega = []\n",
    "y_efedeene = []\n",
    "y_omicron = []\n",
    "L = []\n",
    "times = 0\n",
    "for num in x:\n",
    "    iter = 1\n",
    "    file = open(\"DATA_10000.csv\", \"r\")\n",
    "    L = []\n",
    "    for line in file:\n",
    "        fields = line.split(\",\")\n",
    "        L.append(Node(fields[0], fields[1], fields[2], fields[3], fields[4]))\n",
    "        \n",
    "        if iter == num:\n",
    "            break\n",
    "        iter += 1\n",
    "    \n",
    "    # average case\n",
    "    times = 0\n",
    "    radix_sort_graph(L)\n",
    "    y_efedeene.append(times)\n",
    "\n",
    "    # best case\n",
    "    times = 0\n",
    "    radix_sort_graph(L)\n",
    "    y_omega.append(times)\n",
    "\n",
    "    # worst case\n",
    "    times = 0\n",
    "    radix_sort_graph(L)\n",
    "    y_omicron.append(times)"
   ]
  },
  {
   "cell_type": "code",
   "execution_count": 12,
   "metadata": {},
   "outputs": [
    {
     "data": {
      "image/png": "[encoded data removed]",
      "text/plain": [
       "<matplotlib.figure.Figure at 0x10fc21a90>"
      ]
     },
     "metadata": {},
     "output_type": "display_data"
    },
    {
     "data": {
      "image/png": "[encoded data removed]",
      "text/plain": [
       "<matplotlib.figure.Figure at 0x1150f5e48>"
      ]
     },
     "metadata": {},
     "output_type": "display_data"
    },
    {
     "data": {
      "image/png": "[encoded data removed]",
      "text/plain": [
       "<matplotlib.figure.Figure at 0x1150cb400>"
      ]
     },
     "metadata": {},
     "output_type": "display_data"
    }
   ],
   "source": [
    "fig, ax = plt.subplots(facecolor='w', edgecolor='k')\n",
    "ax.plot(x, y_omega, marker=\"o\",color=\"b\", linestyle='None')\n",
    "ax.set_xlabel('x')\n",
    "ax.set_ylabel('y')\n",
    "ax.grid(True)\n",
    "ax.legend([\"radix sort\"])\n",
    "plt.title('radix sort (best case)')\n",
    "plt.show()\n",
    "\n",
    "fig, ax = plt.subplots(facecolor='w', edgecolor='k')\n",
    "ax.plot(x, y_efedeene, marker=\"o\",color=\"b\", linestyle='None')\n",
    "ax.set_xlabel('x')\n",
    "ax.set_ylabel('y')\n",
    "ax.grid(True)\n",
    "ax.legend([\"radix sort\"])\n",
    "plt.title('radix sort (average case)')\n",
    "plt.show()\n",
    "\n",
    "fig, ax = plt.subplots(facecolor='w', edgecolor='k')\n",
    "ax.plot(x, y_omicron, marker=\"o\",color=\"b\", linestyle='None')\n",
    "ax.set_xlabel('x')\n",
    "ax.set_ylabel('y')\n",
    "ax.grid(True)\n",
    "ax.legend([\"radix sort\"])\n",
    "plt.title('radix sort (worst case)')\n",
    "plt.show()"
   ]
  },
  {
   "cell_type": "code",
   "execution_count": null,
   "metadata": {
    "collapsed": true
   },
   "outputs": [],
   "source": []
  }
 ],
 "metadata": {
  "kernelspec": {
   "display_name": "Python 3",
   "language": "python",
   "name": "python3"
  },
  "language_info": {
   "codemirror_mode": {
    "name": "ipython",
    "version": 3
   },
   "file_extension": ".py",
   "mimetype": "text/x-python",
   "name": "python",
   "nbconvert_exporter": "python",
   "pygments_lexer": "ipython3",
   "version": "3.6.3"
  }
 },
 "nbformat": 4,
 "nbformat_minor": 2
}
