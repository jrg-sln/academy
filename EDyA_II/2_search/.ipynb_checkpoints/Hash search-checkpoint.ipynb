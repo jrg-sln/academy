{
 "cells": [
  {
   "cell_type": "markdown",
   "metadata": {},
   "source": [
    "## Hash search"
   ]
  },
  {
   "cell_type": "markdown",
   "metadata": {},
   "source": [
    "Una función hash permite calcular la posición donde se almacenará el dato aplicando una fórmula predefinida a un valor (llave) dado."
   ]
  },
  {
   "cell_type": "code",
   "execution_count": 1,
   "metadata": {},
   "outputs": [
    {
     "name": "stdout",
     "output_type": "stream",
     "text": [
      "Populating the interactive namespace from numpy and matplotlib\n"
     ]
    }
   ],
   "source": [
    "%pylab inline\n",
    "import matplotlib.pyplot as plt\n",
    "from mpl_toolkits.mplot3d import Axes3D\n",
    "import random"
   ]
  },
  {
   "cell_type": "markdown",
   "metadata": {},
   "source": [
    "## Hash function"
   ]
  },
  {
   "cell_type": "code",
   "execution_count": 2,
   "metadata": {
    "collapsed": true
   },
   "outputs": [],
   "source": [
    "def hash_function(intKey, intListSize):\n",
    "    return (intKey % intListSize)"
   ]
  },
  {
   "cell_type": "code",
   "execution_count": 3,
   "metadata": {
    "collapsed": true
   },
   "outputs": [],
   "source": [
    "def hash_insert(intValue, TAM):\n",
    "    global colition\n",
    "    \n",
    "    addr = hash_function(intValue, TAM)\n",
    "    if len(search_list[addr]) > 0:\n",
    "        colition += 1\n",
    "    \n",
    "    search_list[addr].append(intValue)"
   ]
  },
  {
   "cell_type": "code",
   "execution_count": 4,
   "metadata": {},
   "outputs": [
    {
     "name": "stdout",
     "output_type": "stream",
     "text": [
      "6 colisiones insertando 19 datos\n",
      "[[9740], [9421, 3941], [742], [], [2744, 504], [], [9126, 9666], [], [], [], [], [9711], [7392], [4853], [5994], [3835], [216, 6716, 3816], [4777], [5158], [39, 7099]]\n"
     ]
    }
   ],
   "source": [
    "TAM = 20\n",
    "l = []\n",
    "for i in range(1, TAM+1, 1):\n",
    "    l.append(random.randint(1, 10000))\n",
    "\n",
    "i = 0\n",
    "search_list = []\n",
    "while i < TAM:\n",
    "    search_list.append([])\n",
    "    i += 1\n",
    "\n",
    "#Insert\n",
    "colition = 0\n",
    "for x in l:\n",
    "    hash_insert(x, TAM)\n",
    "\n",
    "print(colition, \"colisiones insertando\", TAM-1, \"datos\")\n",
    "print(search_list)"
   ]
  },
  {
   "cell_type": "code",
   "execution_count": 5,
   "metadata": {
    "collapsed": true
   },
   "outputs": [],
   "source": [
    "def hash_search(intValue):\n",
    "    addr = hash_function(intValue, TAM)\n",
    "    cont = 0\n",
    "    while cont < len(search_list[addr]):\n",
    "        if search_list[addr][cont] == intValue:\n",
    "            return cont\n",
    "        cont += 1\n",
    "    return -1"
   ]
  },
  {
   "cell_type": "code",
   "execution_count": 6,
   "metadata": {},
   "outputs": [
    {
     "name": "stdout",
     "output_type": "stream",
     "text": [
      "El valor 4853 se encuentra en la posición 13 0\n"
     ]
    }
   ],
   "source": [
    "value = l[random.randint(1, TAM-1)]\n",
    "res = hash_search(value)\n",
    "if res == -1:\n",
    "    print(\"El valor\", value, \"no se encuentra en la estructura.\")\n",
    "else:\n",
    "    addr = hash_function(value, TAM)\n",
    "    print(\"El valor\", value, \"se encuentra en la posición\", addr, res)"
   ]
  },
  {
   "cell_type": "code",
   "execution_count": 7,
   "metadata": {
    "collapsed": true
   },
   "outputs": [],
   "source": [
    "class Node:\n",
    "    def __init__(self, number, name, lastname, email, sex):\n",
    "        self.identifier = number\n",
    "        self.name = name\n",
    "        self.last_name = lastname\n",
    "        self.email = email\n",
    "        self.sex = sex[0]\n",
    "        \n",
    "    def __str__(self):\n",
    "        return self.name + \":\" + self.email"
   ]
  },
  {
   "cell_type": "code",
   "execution_count": 8,
   "metadata": {},
   "outputs": [],
   "source": [
    "def hash_node_insert(node, TAM):\n",
    "    global colition\n",
    "    intValue = 0\n",
    "    for c in node.name:\n",
    "        intValue += ord(c)\n",
    "    addr = hash_function(intValue, TAM)\n",
    "    if len(search_list[addr]) > 0:\n",
    "        colition += 1\n",
    "    \n",
    "    search_list[addr].append(node)"
   ]
  },
  {
   "cell_type": "code",
   "execution_count": 9,
   "metadata": {
    "collapsed": true
   },
   "outputs": [],
   "source": [
    "def hash_node_search(node):\n",
    "    intValue = 0\n",
    "    for c in node.name:\n",
    "        intValue += ord(c)\n",
    "    addr = hash_function(intValue, TAM)\n",
    "    cont = 0\n",
    "    while cont < len(search_list[addr]):\n",
    "        if search_list[addr][cont].name == node.name:\n",
    "            return (addr, cont)\n",
    "        cont += 1\n",
    "    return (addr, -1)"
   ]
  },
  {
   "cell_type": "code",
   "execution_count": 10,
   "metadata": {},
   "outputs": [
    {
     "name": "stdout",
     "output_type": "stream",
     "text": [
      "0 []\n",
      "1 [<__main__.Node object at 0x106cf2f98>]\n",
      "2 []\n",
      "3 [<__main__.Node object at 0x106cf2f28>]\n",
      "4 [<__main__.Node object at 0x106cf2b70>, <__main__.Node object at 0x106cf22e8>]\n",
      "5 [<__main__.Node object at 0x106cf2ac8>, <__main__.Node object at 0x106cf2e10>, <__main__.Node object at 0x106cf2eb8>]\n",
      "6 [<__main__.Node object at 0x106cf2a20>]\n",
      "7 [<__main__.Node object at 0x106cf2a58>]\n",
      "8 [<__main__.Node object at 0x106cff080>]\n",
      "9 []\n",
      "\n",
      "Search  Barri\n",
      "(6, 0)\n"
     ]
    }
   ],
   "source": [
    "nodeList = []\n",
    "file = open(\"DATA_10.csv\", \"r\")\n",
    "for line in file:\n",
    "    fields = line.split(\",\")\n",
    "    nodeList.append(Node(fields[0], fields[1], fields[2], fields[3], fields[4]))\n",
    "\n",
    "TAM = len(nodeList)\n",
    "i = 0\n",
    "search_list = []\n",
    "while i < TAM:\n",
    "    search_list.append([])\n",
    "    i += 1\n",
    "\n",
    "for node in nodeList:\n",
    "    hash_node_insert(node, len(nodeList))\n",
    "\n",
    "ind = 0\n",
    "for l in search_list:\n",
    "    print(ind, l)\n",
    "    ind += 1\n",
    "    \n",
    "value = nodeList[random.randint(0, len(nodeList)-1)]\n",
    "print(\"\\nSearch \", value.name)\n",
    "print(hash_node_search(value))"
   ]
  },
  {
   "cell_type": "code",
   "execution_count": 11,
   "metadata": {
    "collapsed": true
   },
   "outputs": [],
   "source": [
    "def hash_node_search_graph(node, TAM):\n",
    "    intValue = 0\n",
    "    for c in node.name:\n",
    "        intValue += ord(c)\n",
    "    addr = hash_function(intValue, TAM)\n",
    "    cont = 0\n",
    "    while cont < len(search_list[addr]):\n",
    "        if search_list[addr][cont].name == node.name:\n",
    "            return (cont+1)\n",
    "        cont += 1\n",
    "    return (cont+1)"
   ]
  },
  {
   "cell_type": "code",
   "execution_count": 12,
   "metadata": {},
   "outputs": [],
   "source": [
    "TAM = 1001\n",
    "x = list(range(1,TAM,1))\n",
    "y_omega = []\n",
    "y_efedeene = []\n",
    "y_omicron = []\n",
    "L = []\n",
    "for num in x:\n",
    "    iter = 1\n",
    "    file = open(\"DATA_10000.csv\", \"r\")\n",
    "    L = []\n",
    "    for line in file:\n",
    "        fields = line.split(\",\")\n",
    "        L.append(Node(fields[0], fields[1], fields[2], fields[3], fields[4]))\n",
    "        \n",
    "        if iter == num:\n",
    "            break\n",
    "        iter += 1\n",
    "    \n",
    "    i = 0\n",
    "    search_list = []\n",
    "    while i < len(L):\n",
    "        search_list.append([])\n",
    "        i += 1\n",
    "    \n",
    "    for node in L:\n",
    "        hash_node_insert(node, len(L))\n",
    "    \n",
    "    # average case\n",
    "    value = L[random.randint(0, len(L)-1)]\n",
    "    y_efedeene.append(hash_node_search_graph(value, len(L)))\n",
    "\n",
    "    # best case\n",
    "    for l in search_list:\n",
    "        if len(l)>0:\n",
    "            value = l[0]\n",
    "            break\n",
    "    y_omega.append(hash_node_search_graph(value, len(L)))\n",
    "\n",
    "    # worst case\n",
    "    max_colition_list = []\n",
    "    for l in search_list:\n",
    "        if len(l)>0:\n",
    "            if len(l)>len(max_colition_list):\n",
    "                max_colition_list = l\n",
    "    value = max_colition_list[len(max_colition_list)-1]\n",
    "    y_omicron.append(hash_node_search_graph(value, len(L)))"
   ]
  },
  {
   "cell_type": "code",
   "execution_count": 13,
   "metadata": {},
   "outputs": [
    {
     "data": {
      "image/png": "[encoded data removed]",
      "text/plain": [
       "<matplotlib.figure.Figure at 0x107177198>"
      ]
     },
     "metadata": {},
     "output_type": "display_data"
    },
    {
     "data": {
      "image/png": "[encoded data removed]",
      "text/plain": [
       "<matplotlib.figure.Figure at 0x106d0bba8>"
      ]
     },
     "metadata": {},
     "output_type": "display_data"
    },
    {
     "data": {
      "image/png": "[encoded data removed]",
      "text/plain": [
       "<matplotlib.figure.Figure at 0x107192128>"
      ]
     },
     "metadata": {},
     "output_type": "display_data"
    }
   ],
   "source": [
    "fig, ax = plt.subplots(facecolor='w', edgecolor='k')\n",
    "ax.plot(x, y_omega, marker=\"o\",color=\"b\", linestyle='None')\n",
    "ax.set_xlabel('x')\n",
    "ax.set_ylabel('y')\n",
    "ax.grid(True)\n",
    "ax.legend([\"Lineal iterative search\"])\n",
    "plt.title('Lineal iterative search (best case)')\n",
    "plt.show()\n",
    "\n",
    "fig, ax = plt.subplots(facecolor='w', edgecolor='k')\n",
    "ax.plot(x, y_efedeene, marker=\"o\",color=\"b\", linestyle='None')\n",
    "ax.set_xlabel('x')\n",
    "ax.set_ylabel('y')\n",
    "ax.grid(True)\n",
    "ax.legend([\"Lineal iterative search\"])\n",
    "plt.title('Lineal iterative search (average case)')\n",
    "plt.show()\n",
    "\n",
    "fig, ax = plt.subplots(facecolor='w', edgecolor='k')\n",
    "ax.plot(x, y_omicron, marker=\"o\",color=\"b\", linestyle='None')\n",
    "ax.set_xlabel('x')\n",
    "ax.set_ylabel('y')\n",
    "ax.grid(True)\n",
    "ax.legend([\"Lineal iterative search\"])\n",
    "plt.title('Lineal iterative search (worst case)')\n",
    "plt.show()"
   ]
  },
  {
   "cell_type": "code",
   "execution_count": null,
   "metadata": {
    "collapsed": true
   },
   "outputs": [],
   "source": []
  }
 ],
 "metadata": {
  "anaconda-cloud": {},
  "kernelspec": {
   "display_name": "Python 3",
   "language": "python",
   "name": "python3"
  },
  "language_info": {
   "codemirror_mode": {
    "name": "ipython",
    "version": 3
   },
   "file_extension": ".py",
   "mimetype": "text/x-python",
   "name": "python",
   "nbconvert_exporter": "python",
   "pygments_lexer": "ipython3",
   "version": "3.6.3"
  }
 },
 "nbformat": 4,
 "nbformat_minor": 1
}
