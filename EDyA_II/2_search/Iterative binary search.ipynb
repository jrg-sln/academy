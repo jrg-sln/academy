{
 "cells": [
  {
   "cell_type": "markdown",
   "metadata": {},
   "source": [
    "## Binary search"
   ]
  },
  {
   "cell_type": "markdown",
   "metadata": {},
   "source": [
    "El método de búsqueda binaria funciona, únicamente, sobre conjunto de datos ordenados.\n",
    "\n",
    "El método consiste en dividir el intervalo de búsqueda en dos partes y compara el elemento que ocupa la posición central del conjunto. Si el elemento del conjunto no es igual al elemento buscado se redefinen los extremos del intervalo, dependiendo de si el elemento central es mayor o menor que el elemento buscado, reduciendo así el espacio de búsqueda."
   ]
  },
  {
   "cell_type": "code",
   "execution_count": 1,
   "metadata": {},
   "outputs": [
    {
     "name": "stdout",
     "output_type": "stream",
     "text": [
      "Populating the interactive namespace from numpy and matplotlib\n"
     ]
    }
   ],
   "source": [
    "%pylab inline\n",
    "import matplotlib.pyplot as plt\n",
    "from mpl_toolkits.mplot3d import Axes3D\n",
    "import random"
   ]
  },
  {
   "cell_type": "code",
   "execution_count": 2,
   "metadata": {
    "collapsed": true
   },
   "outputs": [],
   "source": [
    "def binary_iterative_search(intList, intValue):\n",
    "    lowIndex = 0\n",
    "    highIndex = len(intList)-1\n",
    "    while lowIndex != highIndex:\n",
    "        medium = (highIndex + lowIndex)//2\n",
    "        if intList[medium] == intValue:\n",
    "            return medium\n",
    "        else:\n",
    "            if intValue < intList[medium]:\n",
    "                highIndex = medium\n",
    "            else:\n",
    "                lowIndex = medium + 1\n",
    "    if intList[lowIndex] == intValue:\n",
    "        return lowIndex\n",
    "    else:\n",
    "        return -1"
   ]
  },
  {
   "cell_type": "code",
   "execution_count": 3,
   "metadata": {},
   "outputs": [
    {
     "name": "stdout",
     "output_type": "stream",
     "text": [
      "La llave 2000 no se encuentra en el conjunto\n"
     ]
    }
   ],
   "source": [
    "TAM_LIST = 2001\n",
    "TAM_RANDOM_INT = 1000\n",
    "#val = random.randint(1, TAM_RANDOM_INT)\n",
    "val = 2000\n",
    "cont = 0\n",
    "\n",
    "l = []\n",
    "for i in range(1, TAM_LIST, 1):\n",
    "    l.append(random.randint(1, TAM_RANDOM_INT))\n",
    "l.sort()\n",
    "\n",
    "res = binary_iterative_search(l, val)\n",
    "\n",
    "if res == -1:\n",
    "    print('La llave', val,'no se encuentra en el conjunto')\n",
    "else:\n",
    "    print('El valor', val,'se encuentra en la posición', res)"
   ]
  },
  {
   "cell_type": "code",
   "execution_count": 4,
   "metadata": {
    "collapsed": true
   },
   "outputs": [],
   "source": [
    "class Node:\n",
    "    def __init__(self, number, name, lastname, email, sex):\n",
    "        self.identifier = number\n",
    "        self.name = name\n",
    "        self.last_name = lastname\n",
    "        self.email = email\n",
    "        self.sex = sex[0]\n",
    "        \n",
    "    def __str__(self):\n",
    "        return self.name + \": \" + self.email"
   ]
  },
  {
   "cell_type": "code",
   "execution_count": 11,
   "metadata": {
    "collapsed": true
   },
   "outputs": [],
   "source": [
    "def bubble_sort_node(nodeList):\n",
    "    times = 0\n",
    "    cont = 0\n",
    "    comp = 0\n",
    "    aux = 0\n",
    "    while cont < len(nodeList)-1:\n",
    "        times += 1\n",
    "        comp = len(nodeList)-1\n",
    "        while comp > cont:\n",
    "            times += 1\n",
    "            if nodeList[comp-1].name > nodeList[comp].name:\n",
    "                aux = nodeList[comp-1]\n",
    "                nodeList[comp-1] = nodeList[comp]\n",
    "                nodeList[comp] = aux\n",
    "            comp = comp - 1\n",
    "        cont = cont + 1\n",
    "    return times"
   ]
  },
  {
   "cell_type": "code",
   "execution_count": 12,
   "metadata": {
    "collapsed": true
   },
   "outputs": [],
   "source": [
    "def binary_iterative_node_search(nodeList, nodeValue):\n",
    "    lowIndex = 0\n",
    "    highIndex = len(nodeList)-1\n",
    "    while lowIndex != highIndex:\n",
    "        medium = (highIndex + lowIndex)//2\n",
    "        if nodeList[medium].name == nodeValue.name:\n",
    "            return medium\n",
    "        else:\n",
    "            if nodeValue.name < nodeList[medium].name:\n",
    "                highIndex = medium\n",
    "            else:\n",
    "                lowIndex = medium + 1\n",
    "    if nodeList[lowIndex].name == nodeValue.name:\n",
    "        return lowIndex\n",
    "    else:\n",
    "        return -1"
   ]
  },
  {
   "cell_type": "code",
   "execution_count": 13,
   "metadata": {},
   "outputs": [
    {
     "name": "stdout",
     "output_type": "stream",
     "text": [
      "List\n",
      "Cori: cwissby0@netlog.com\n",
      "Barri: bminter1@webeden.co.uk\n",
      "Elyssa: eoshirine2@elegantthemes.com\n",
      "Mendie: mbransom3@qq.com\n",
      "Faulkner: fpoulney4@wix.com\n",
      "Farr: fdungay5@cbslocal.com\n",
      "Ty: tflemming6@reference.com\n",
      "Stephenie: syarrell7@sina.com.cn\n",
      "Angil: alawman8@biglobe.ne.jp\n",
      "Sorcha: smotherwell9@patch.com\n",
      "\n",
      "Bubble sort\n",
      "Angil: alawman8@biglobe.ne.jp\n",
      "Barri: bminter1@webeden.co.uk\n",
      "Cori: cwissby0@netlog.com\n",
      "Elyssa: eoshirine2@elegantthemes.com\n",
      "Farr: fdungay5@cbslocal.com\n",
      "Faulkner: fpoulney4@wix.com\n",
      "Mendie: mbransom3@qq.com\n",
      "Sorcha: smotherwell9@patch.com\n",
      "Stephenie: syarrell7@sina.com.cn\n",
      "Ty: tflemming6@reference.com\n",
      "\n",
      "Search  Angil\n",
      "0\n"
     ]
    }
   ],
   "source": [
    "nodeList = []\n",
    "file = open(\"DATA_10.csv\", \"r\")\n",
    "for line in file:\n",
    "    fields = line.split(\",\")\n",
    "    nodeList.append(Node(fields[0], fields[1], fields[2], fields[3], fields[4]))\n",
    "        \n",
    "print(\"List\")\n",
    "for node in nodeList:\n",
    "    print(node)\n",
    "\n",
    "bubble_sort_node(nodeList)\n",
    "print(\"\\nBubble sort\")\n",
    "for node in nodeList:\n",
    "    print(node)\n",
    "    \n",
    "value = nodeList[random.randint(0, len(nodeList)-1)]\n",
    "print(\"\\nSearch \", value.name)\n",
    "print(binary_iterative_node_search(nodeList, value))"
   ]
  },
  {
   "cell_type": "code",
   "execution_count": 14,
   "metadata": {
    "collapsed": true
   },
   "outputs": [],
   "source": [
    "def binary_iterative_node_search_graph(nodeList, nodeValue):\n",
    "    cont = 0\n",
    "    lowIndex = 0\n",
    "    highIndex = len(nodeList)-1\n",
    "    while lowIndex != highIndex:\n",
    "        cont += 1\n",
    "        medium = (highIndex + lowIndex)//2\n",
    "        if nodeList[medium].name == nodeValue.name:\n",
    "            return cont\n",
    "        else:\n",
    "            if nodeValue.name < nodeList[medium].name:\n",
    "                highIndex = medium\n",
    "            else:\n",
    "                lowIndex = medium + 1\n",
    "    cont += 1\n",
    "    if nodeList[lowIndex].name == nodeValue.name:\n",
    "        return cont\n",
    "    else:\n",
    "        return cont"
   ]
  },
  {
   "cell_type": "code",
   "execution_count": 15,
   "metadata": {
    "collapsed": true
   },
   "outputs": [],
   "source": [
    "TAM = 101\n",
    "x = list(range(1,TAM,1))\n",
    "y_omega = []\n",
    "y_efedeene = []\n",
    "y_omicron = []\n",
    "L = []\n",
    "for num in x:\n",
    "    iter = 1\n",
    "    file = open(\"DATA_10000.csv\", \"r\")\n",
    "    L = []\n",
    "    for line in file:\n",
    "        fields = line.split(\",\")\n",
    "        L.append(Node(fields[0], fields[1], fields[2], fields[3], fields[4]))\n",
    "        \n",
    "        if iter == num:\n",
    "            break\n",
    "        iter += 1\n",
    "    \n",
    "    res = bubble_sort_node(L)\n",
    "    \n",
    "    # average case\n",
    "    value = L[random.randint(0, len(L)-1)]\n",
    "\n",
    "    y_efedeene.append(binary_iterative_node_search_graph(L, value)+res)\n",
    "\n",
    "    # best case\n",
    "    value = L[(len(L)-1)//2]\n",
    "    y_omega.append(binary_iterative_node_search_graph(L, value)+res)\n",
    "\n",
    "    # worst case\n",
    "    value = Node(0, \"zzzzzzzzzzzz\", \"zzzzzzzzzzzz\", \"zzzzzzzzzzzz\", \"zzzzzzzzzzzz\")\n",
    "    y_omicron.append(binary_iterative_node_search_graph(L, value)+res)"
   ]
  },
  {
   "cell_type": "code",
   "execution_count": 16,
   "metadata": {},
   "outputs": [
    {
     "data": {
      "image/png": "[encoded data removed]",
      "text/plain": [
       "<matplotlib.figure.Figure at 0x10c301128>"
      ]
     },
     "metadata": {},
     "output_type": "display_data"
    },
    {
     "data": {
      "image/png": "[encoded data removed]",
      "text/plain": [
       "<matplotlib.figure.Figure at 0x1119d83c8>"
      ]
     },
     "metadata": {},
     "output_type": "display_data"
    },
    {
     "data": {
      "image/png": "[encoded data removed]",
      "text/plain": [
       "<matplotlib.figure.Figure at 0x111e46748>"
      ]
     },
     "metadata": {},
     "output_type": "display_data"
    }
   ],
   "source": [
    "fig, ax = plt.subplots(facecolor='w', edgecolor='k')\n",
    "ax.plot(x, y_omega, marker=\"o\",color=\"b\", linestyle='None')\n",
    "ax.set_xlabel('x')\n",
    "ax.set_ylabel('y')\n",
    "ax.grid(True)\n",
    "ax.legend([\"Binary iterative search\"])\n",
    "plt.title('Binary iterative search (best case)')\n",
    "plt.show()\n",
    "\n",
    "fig, ax = plt.subplots(facecolor='w', edgecolor='k')\n",
    "ax.plot(x, y_efedeene, marker=\"o\",color=\"b\", linestyle='None')\n",
    "ax.set_xlabel('x')\n",
    "ax.set_ylabel('y')\n",
    "ax.grid(True)\n",
    "ax.legend([\"Binary iterative search\"])\n",
    "plt.title('Binary iterative search (average case)')\n",
    "plt.show()\n",
    "\n",
    "fig, ax = plt.subplots(facecolor='w', edgecolor='k')\n",
    "ax.plot(x, y_omicron, marker=\"o\",color=\"b\", linestyle='None')\n",
    "ax.set_xlabel('x')\n",
    "ax.set_ylabel('y')\n",
    "ax.grid(True)\n",
    "ax.legend([\"Binary iterative search\"])\n",
    "plt.title('Binary iterative search (worst case)')\n",
    "plt.show()"
   ]
  },
  {
   "cell_type": "code",
   "execution_count": null,
   "metadata": {
    "collapsed": true
   },
   "outputs": [],
   "source": []
  }
 ],
 "metadata": {
  "kernelspec": {
   "display_name": "Python 3",
   "language": "python",
   "name": "python3"
  },
  "language_info": {
   "codemirror_mode": {
    "name": "ipython",
    "version": 3
   },
   "file_extension": ".py",
   "mimetype": "text/x-python",
   "name": "python",
   "nbconvert_exporter": "python",
   "pygments_lexer": "ipython3",
   "version": "3.6.3"
  }
 },
 "nbformat": 4,
 "nbformat_minor": 2
}
