{
 "cells": [
  {
   "cell_type": "markdown",
   "metadata": {},
   "source": [
    "## Iterative lineal search"
   ]
  },
  {
   "cell_type": "markdown",
   "metadata": {},
   "source": [
    "La búsqueda lineal, también llamada secuencial, es el método de búsqueda más sencillo, consiste en revisar elemento tras elemento hasta encontrar el dato buscado o llegar al final del conjunto de datos.\n",
    "\n",
    "Este método se puede aplicar a estructuras de datos tanto ordenadas como desordenadas. Se suele utilizar cuando el conjunto de datos es pequeño."
   ]
  },
  {
   "cell_type": "code",
   "execution_count": 1,
   "metadata": {},
   "outputs": [
    {
     "name": "stdout",
     "output_type": "stream",
     "text": [
      "Populating the interactive namespace from numpy and matplotlib\n"
     ]
    }
   ],
   "source": [
    "%pylab inline\n",
    "import matplotlib.pyplot as plt\n",
    "from mpl_toolkits.mplot3d import Axes3D\n",
    "import random"
   ]
  },
  {
   "cell_type": "markdown",
   "metadata": {},
   "source": [
    "## Iterative"
   ]
  },
  {
   "cell_type": "code",
   "execution_count": 2,
   "metadata": {
    "collapsed": true
   },
   "outputs": [],
   "source": [
    "def lineal_search_iterative(entList, entValue):\n",
    "    cont = 0\n",
    "    while cont < len(entList) and entList[cont] != entValue:\n",
    "        cont += 1\n",
    "    \n",
    "    if cont == len(entList):\n",
    "        return -1\n",
    "    else:\n",
    "        return cont"
   ]
  },
  {
   "cell_type": "code",
   "execution_count": 3,
   "metadata": {},
   "outputs": [
    {
     "name": "stdout",
     "output_type": "stream",
     "text": [
      "[53, 26, 27, 12, 65, 49, 61, 59, 29, 62, 79, 12, 20, 61, 24, 82, 75, 82, 76, 78]\n",
      "La llave 50 no se encuentra en el conjunto\n",
      "[12, 12, 20, 24, 26, 27, 29, 49, 53, 59, 61, 61, 62, 65, 75, 76, 78, 79, 82, 82]\n",
      "La llave 50 no se encuentra en el conjunto\n"
     ]
    }
   ],
   "source": [
    "TAM = 21\n",
    "val = 50\n",
    "cont = 0\n",
    "\n",
    "l = []\n",
    "for i in range(1, TAM, 1):\n",
    "    l.append(random.randint(1, 100))\n",
    "\n",
    "print(l)\n",
    "res = lineal_search_iterative(l, val)\n",
    "\n",
    "if res == -1:\n",
    "    print('La llave', val,'no se encuentra en el conjunto')\n",
    "else:\n",
    "    print('El valor', val,'se encuentra en la posición', res)\n",
    "\n",
    "l.sort()\n",
    "res = lineal_search_iterative(l, val)\n",
    "print(l)\n",
    "if res == -1:\n",
    "    print('La llave', val,'no se encuentra en el conjunto')\n",
    "else:\n",
    "    print('El valor', val,'se encuentra en la posición', res)"
   ]
  },
  {
   "cell_type": "code",
   "execution_count": 4,
   "metadata": {
    "collapsed": true
   },
   "outputs": [],
   "source": [
    "class Node:\n",
    "    def __init__(self, number, name, lastname, email, sex):\n",
    "        self.identifier = number\n",
    "        self.name = name\n",
    "        self.last_name = lastname\n",
    "        self.email = email\n",
    "        self.sex = sex[0]\n",
    "        \n",
    "    def __str__(self):\n",
    "        return self.name + \":\" + self.email"
   ]
  },
  {
   "cell_type": "code",
   "execution_count": 5,
   "metadata": {
    "collapsed": true
   },
   "outputs": [],
   "source": [
    "def lineal_node_search_iterative(nodeList, nodeValue):\n",
    "    cont = 0\n",
    "    while cont < len(nodeList) and nodeList[cont].name != nodeValue.name:\n",
    "        cont += 1\n",
    "    \n",
    "    if cont == len(nodeList):\n",
    "        return -1\n",
    "    else:\n",
    "        return cont"
   ]
  },
  {
   "cell_type": "code",
   "execution_count": 6,
   "metadata": {},
   "outputs": [
    {
     "name": "stdout",
     "output_type": "stream",
     "text": [
      "List\n",
      "Cori:cwissby0@netlog.com\n",
      "Barri:bminter1@webeden.co.uk\n",
      "Elyssa:eoshirine2@elegantthemes.com\n",
      "Mendie:mbransom3@qq.com\n",
      "Faulkner:fpoulney4@wix.com\n",
      "Farr:fdungay5@cbslocal.com\n",
      "Ty:tflemming6@reference.com\n",
      "Stephenie:syarrell7@sina.com.cn\n",
      "Angil:alawman8@biglobe.ne.jp\n",
      "Sorcha:smotherwell9@patch.com\n",
      "\n",
      "Search  Stephenie\n",
      "7\n"
     ]
    }
   ],
   "source": [
    "nodeList = []\n",
    "file = open(\"DATA_10.csv\", \"r\")\n",
    "for line in file:\n",
    "    fields = line.split(\",\")\n",
    "    nodeList.append(Node(fields[0], fields[1], fields[2], fields[3], fields[4]))\n",
    "        \n",
    "print(\"List\")\n",
    "for node in nodeList:\n",
    "    print(node)\n",
    "    \n",
    "value = nodeList[random.randint(0, len(nodeList)-1)]\n",
    "print(\"\\nSearch \", value.name)\n",
    "print(lineal_node_search_iterative(nodeList, value))"
   ]
  },
  {
   "cell_type": "code",
   "execution_count": 7,
   "metadata": {
    "collapsed": true
   },
   "outputs": [],
   "source": [
    "def lineal_node_search_iterative_graph(nodeList, nodeValue):\n",
    "    cont = 0\n",
    "    while cont < len(nodeList) and nodeList[cont].name != nodeValue.name:\n",
    "        cont += 1\n",
    "    \n",
    "    cont += 1\n",
    "    return cont"
   ]
  },
  {
   "cell_type": "code",
   "execution_count": 8,
   "metadata": {
    "collapsed": true
   },
   "outputs": [],
   "source": [
    "TAM = 101\n",
    "x = list(range(1,TAM,1))\n",
    "y_omega = []\n",
    "y_efedeene = []\n",
    "y_omicron = []\n",
    "L = []\n",
    "for num in x:\n",
    "    iter = 1\n",
    "    file = open(\"DATA_10000.csv\", \"r\")\n",
    "    L = []\n",
    "    for line in file:\n",
    "        fields = line.split(\",\")\n",
    "        L.append(Node(fields[0], fields[1], fields[2], fields[3], fields[4]))\n",
    "        \n",
    "        if iter == num:\n",
    "            break\n",
    "        iter += 1\n",
    "    \n",
    "    # average case\n",
    "    value = L[random.randint(0, len(L)-1)]\n",
    "    y_efedeene.append(lineal_node_search_iterative_graph(L, value))\n",
    "\n",
    "    # best case\n",
    "    value = L[0]\n",
    "    y_omega.append(lineal_node_search_iterative_graph(L, value))\n",
    "\n",
    "    # worst case\n",
    "    value = Node(0, \"zzzzzzzzzzzz\", \"zzzzzzzzzzzz\", \"zzzzzzzzzzzz\", \"zzzzzzzzzzzz\")\n",
    "    y_omicron.append(lineal_node_search_iterative_graph(L, value))"
   ]
  },
  {
   "cell_type": "code",
   "execution_count": 9,
   "metadata": {},
   "outputs": [
    {
     "data": {
      "image/png": "[encoded data removed]",
      "text/plain": [
       "<matplotlib.figure.Figure at 0x113d3a518>"
      ]
     },
     "metadata": {},
     "output_type": "display_data"
    },
    {
     "data": {
      "image/png": "[encoded data removed]",
      "text/plain": [
       "<matplotlib.figure.Figure at 0x113d3b7b8>"
      ]
     },
     "metadata": {},
     "output_type": "display_data"
    },
    {
     "data": {
      "image/png": "[encoded data removed]",
      "text/plain": [
       "<matplotlib.figure.Figure at 0x11c4bef98>"
      ]
     },
     "metadata": {},
     "output_type": "display_data"
    }
   ],
   "source": [
    "fig, ax = plt.subplots(facecolor='w', edgecolor='k')\n",
    "ax.plot(x, y_omega, marker=\"o\",color=\"b\", linestyle='None')\n",
    "ax.set_xlabel('x')\n",
    "ax.set_ylabel('y')\n",
    "ax.grid(True)\n",
    "ax.legend([\"Lineal iterative search\"])\n",
    "plt.title('Lineal iterative search (best case)')\n",
    "plt.show()\n",
    "\n",
    "fig, ax = plt.subplots(facecolor='w', edgecolor='k')\n",
    "ax.plot(x, y_efedeene, marker=\"o\",color=\"b\", linestyle='None')\n",
    "ax.set_xlabel('x')\n",
    "ax.set_ylabel('y')\n",
    "ax.grid(True)\n",
    "ax.legend([\"Lineal iterative search\"])\n",
    "plt.title('Lineal iterative search (average case)')\n",
    "plt.show()\n",
    "\n",
    "fig, ax = plt.subplots(facecolor='w', edgecolor='k')\n",
    "ax.plot(x, y_omicron, marker=\"o\",color=\"b\", linestyle='None')\n",
    "ax.set_xlabel('x')\n",
    "ax.set_ylabel('y')\n",
    "ax.grid(True)\n",
    "ax.legend([\"Lineal iterative search\"])\n",
    "plt.title('Lineal iterative search (worst case)')\n",
    "plt.show()"
   ]
  },
  {
   "cell_type": "code",
   "execution_count": null,
   "metadata": {
    "collapsed": true
   },
   "outputs": [],
   "source": []
  }
 ],
 "metadata": {
  "anaconda-cloud": {},
  "kernelspec": {
   "display_name": "Python 3",
   "language": "python",
   "name": "python3"
  },
  "language_info": {
   "codemirror_mode": {
    "name": "ipython",
    "version": 3
   },
   "file_extension": ".py",
   "mimetype": "text/x-python",
   "name": "python",
   "nbconvert_exporter": "python",
   "pygments_lexer": "ipython3",
   "version": "3.6.3"
  }
 },
 "nbformat": 4,
 "nbformat_minor": 1
}
