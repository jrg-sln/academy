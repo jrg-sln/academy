{
 "cells": [
  {
   "cell_type": "markdown",
   "metadata": {},
   "source": [
    "## Breadth first search"
   ]
  },
  {
   "cell_type": "markdown",
   "metadata": {},
   "source": [
    "La búsqueda por expansión o breadth-first search es uno de los algoritmos más simples para realizar búsquedas en un grafo.\n",
    "\n",
    "Dada una gráfica G = {V, A} y un vértice fuente s, el algoritmo de búsqueda por expansión (amplitud o anchura) explora de manera sistemática todas las aristas de G para descubrir cada vértice que es accesible desde s."
   ]
  },
  {
   "cell_type": "code",
   "execution_count": 1,
   "metadata": {},
   "outputs": [
    {
     "name": "stdout",
     "output_type": "stream",
     "text": [
      "Populating the interactive namespace from numpy and matplotlib\n"
     ]
    }
   ],
   "source": [
    "%pylab inline\n",
    "import matplotlib.pyplot as plt\n",
    "from mpl_toolkits.mplot3d import Axes3D\n",
    "\n",
    "import random\n",
    "import numpy as np\n",
    "MAXV = 0"
   ]
  },
  {
   "cell_type": "code",
   "execution_count": 2,
   "metadata": {
    "collapsed": true
   },
   "outputs": [],
   "source": [
    "class Node:\n",
    "    # edge v\n",
    "    to = 0\n",
    "    # weight or cost from the edge (if it exists)\n",
    "    cost = 0\n",
    "    # Next edge-node\n",
    "    nxt = None\n",
    "    # BFS\n",
    "    # previus edge-node\n",
    "    prev = None\n",
    "    # color: 0-blank, 1-gray, 2-black\n",
    "    color = 0\n",
    "    # distance\n",
    "    distance = -1"
   ]
  },
  {
   "cell_type": "code",
   "execution_count": 3,
   "metadata": {
    "collapsed": true
   },
   "outputs": [],
   "source": [
    "class Graph:\n",
    "    # edge adjacent\n",
    "    edges = []\n",
    "    # Extern grade from each node\n",
    "    grade = []\n",
    "    # nodes number\n",
    "    num_nodes = 0\n",
    "    # edges number\n",
    "    num_edges = 0\n",
    "    # directed or not\n",
    "    directed = False"
   ]
  },
  {
   "cell_type": "code",
   "execution_count": 4,
   "metadata": {
    "collapsed": true
   },
   "outputs": [],
   "source": [
    "def start_graph (objGraph):\n",
    "    i = 0\n",
    "    objGraph.num_nodes = 0\n",
    "    objGraph.num_edges = 0\n",
    "    while i<=MAXV:\n",
    "        objGraph.grade.append(0)\n",
    "        objGraph.edges.append(None)\n",
    "        i += 1"
   ]
  },
  {
   "cell_type": "code",
   "execution_count": 5,
   "metadata": {
    "collapsed": true
   },
   "outputs": [],
   "source": [
    "def insert_edge(objGraph, intU, intV, cost, isDirected):\n",
    "    item = Node()\n",
    "    item.cost = cost\n",
    "    item.to = intV;\n",
    "    item.nxt = objGraph.edges[intU]\n",
    "    objGraph.edges[intU] = item\n",
    "    objGraph.grade[intU] += 1\n",
    "    if isDirected == False and intV != intU:\n",
    "        insert_edge(objGraph, intV, intU, cost, True)\n",
    "    else:\n",
    "        objGraph.num_edges += 1"
   ]
  },
  {
   "cell_type": "code",
   "execution_count": 6,
   "metadata": {
    "collapsed": true
   },
   "outputs": [],
   "source": [
    "def create_graph (objGraph, hasCost, intMatrix):\n",
    "    global nodes_numbers\n",
    "    i = 0;\n",
    "    u = v = cost = 0\n",
    "    number_edges = objGraph.num_edges\n",
    "    count_nodes_numbers = 0\n",
    "    while i < number_edges:\n",
    "        #print(\"Insert edge (u, v)\")\n",
    "        #u = int(input('u: '))\n",
    "        u = nodes_numbers[count_nodes_numbers]\n",
    "        count_nodes_numbers += 1\n",
    "        #v = int(input('v: '))\n",
    "        v = nodes_numbers[count_nodes_numbers]\n",
    "        count_nodes_numbers += 1\n",
    "        if hasCost == True :\n",
    "            print(\"Insert cost or weight from edge:\")\n",
    "            cost = int(input('Cost / weight: '))\n",
    "        else:\n",
    "            cost = 1\n",
    "        # insert cost on the adjacent matrix\n",
    "        intMatrix[(v-1)][(u-1)] = cost;\n",
    "        if objGraph.directed == False:\n",
    "            intMatrix[(u-1)][v-1] = cost;\n",
    "        # insert edge on the adjacent list\n",
    "        insert_edge(objGraph, u, v, cost, objGraph.directed);\n",
    "        i += 1"
   ]
  },
  {
   "cell_type": "code",
   "execution_count": 7,
   "metadata": {
    "collapsed": true
   },
   "outputs": [],
   "source": [
    "def print_graph(objGraph, intMatrix):\n",
    "    i = 1\n",
    "    item = None\n",
    "    print(\"\\nADJACENT LIST:\")\n",
    "    string = \"\"\n",
    "    while i <= objGraph.num_nodes:\n",
    "        string += str(i) + \"\\t\"\n",
    "        item = objGraph.edges[i]\n",
    "        while item != None:\n",
    "            string += str(item.to) + \": \" + str(item.cost) + \"\\t\"\n",
    "            item = item.nxt;\n",
    "        string += \"\\n\"\n",
    "        i += 1\n",
    "    print(string)\n",
    "    #print(\"ADJACENT MATRIX:\")\n",
    "    #print (intMatrix)\n",
    "    #print()"
   ]
  },
  {
   "cell_type": "code",
   "execution_count": 8,
   "metadata": {
    "collapsed": true
   },
   "outputs": [],
   "source": [
    "# color: 0-blank, 1-gray, 2-black\n",
    "def breadth_first_search(objGraph, intNodeS):\n",
    "    global times\n",
    "    objGraph.edges[intNodeS].color = 1\n",
    "    objGraph.edges[intNodeS].distance = 0\n",
    "    objGraph.edges[intNodeS].prev = None\n",
    "    queue = []\n",
    "    queue.append(intNodeS)\n",
    "    while len(queue) != 0:\n",
    "        times += 1\n",
    "        u = queue.pop(0)\n",
    "        v = objGraph.edges[u]\n",
    "        while v != None:\n",
    "            times += 1\n",
    "            if objGraph.edges[v.to] != None:\n",
    "                if objGraph.edges[v.to].color == 0:\n",
    "                    objGraph.edges[v.to].color = 1\n",
    "                    objGraph.edges[v.to].distance = objGraph.edges[u].distance + 1\n",
    "                    objGraph.edges[v.to].prev = u\n",
    "                    queue.append(v.to)\n",
    "            v = v.nxt\n",
    "        objGraph.edges[u].color = 2"
   ]
  },
  {
   "cell_type": "code",
   "execution_count": 9,
   "metadata": {
    "collapsed": true
   },
   "outputs": [],
   "source": [
    "def print_graph_color(objGraph):\n",
    "    i = 1\n",
    "    item = None\n",
    "    print(\"\\nBREADTH FIRST SEARCH:\")\n",
    "    string = \"\"\n",
    "    while i <= objGraph.num_nodes:\n",
    "        color = \"blank\" if objGraph.edges[i].color == 0 else \"gray\" if objGraph.edges[i].color == 1 else \"black\"\n",
    "        cont = 0\n",
    "        tabs = \"\"\n",
    "        while cont<objGraph.edges[i].distance:\n",
    "            tabs+=\"\\t\"\n",
    "            cont += 1\n",
    "        string += tabs + str(i) + \": \" + color + \"-\" +  str(objGraph.edges[i].distance) + \"\\t\"\n",
    "        string += \"\\n\"\n",
    "        i += 1\n",
    "    print(string)"
   ]
  },
  {
   "cell_type": "code",
   "execution_count": 10,
   "metadata": {
    "collapsed": true
   },
   "outputs": [],
   "source": [
    "def main():\n",
    "    global matrix, MAXV, n_n, n_e, g_c, g_d\n",
    "    op = directed = cost = i = j = 0\n",
    "    print(\"\\n####### GRAPH STRUCTURE #######\\n\")\n",
    "    directed = g_d\n",
    "    cost = g_c\n",
    "    hasCost = True if cost == 1 else False\n",
    "    num_nodes = n_n\n",
    "    MAXV = num_nodes\n",
    "    obj_graph.edges = []\n",
    "    obj_graph.grade = []\n",
    "    start_graph(obj_graph)\n",
    "    obj_graph.num_nodes = num_nodes\n",
    "    obj_graph.directed = True if directed == 1 else False\n",
    "    matrix = np.zeros((obj_graph.num_nodes, obj_graph.num_nodes))\n",
    "    obj_graph.num_edges = n_e\n",
    "    \n",
    "    create_graph(obj_graph, hasCost, matrix)\n",
    "    print_graph(obj_graph, matrix)\n",
    "    breadth_first_search(obj_graph, 3)\n",
    "    print_graph_color(obj_graph)"
   ]
  },
  {
   "cell_type": "code",
   "execution_count": 11,
   "metadata": {},
   "outputs": [
    {
     "name": "stdout",
     "output_type": "stream",
     "text": [
      "[1, 5, 1, 2, 1, 7, 1, 6, 1, 11, 1, 9, 1, 12, 2, 7, 2, 6, 2, 5, 2, 19, 2, 3, 2, 9, 2, 12, 3, 4, 5, 18, 5, 6, 5, 8, 5, 7, 5, 20, 6, 13, 6, 9, 6, 12, 7, 8, 7, 10, 8, 10, 8, 13, 8, 18, 9, 11, 9, 12, 10, 13, 10, 12, 11, 12, 11, 17, 11, 15, 12, 17, 12, 15, 13, 14, 13, 16, 13, 18, 14, 16, 14, 18, 15, 17, 16, 18]\n",
      "\n",
      "####### GRAPH STRUCTURE #######\n",
      "\n",
      "\n",
      "ADJACENT LIST:\n",
      "1\t12: 1\t9: 1\t11: 1\t6: 1\t7: 1\t2: 1\t5: 1\t\n",
      "2\t12: 1\t9: 1\t3: 1\t19: 1\t5: 1\t6: 1\t7: 1\t1: 1\t\n",
      "3\t4: 1\t2: 1\t\n",
      "4\t3: 1\t\n",
      "5\t20: 1\t7: 1\t8: 1\t6: 1\t18: 1\t2: 1\t1: 1\t\n",
      "6\t12: 1\t9: 1\t13: 1\t5: 1\t2: 1\t1: 1\t\n",
      "7\t10: 1\t8: 1\t5: 1\t2: 1\t1: 1\t\n",
      "8\t18: 1\t13: 1\t10: 1\t7: 1\t5: 1\t\n",
      "9\t12: 1\t11: 1\t6: 1\t2: 1\t1: 1\t\n",
      "10\t12: 1\t13: 1\t8: 1\t7: 1\t\n",
      "11\t15: 1\t17: 1\t12: 1\t9: 1\t1: 1\t\n",
      "12\t15: 1\t17: 1\t11: 1\t10: 1\t9: 1\t6: 1\t2: 1\t1: 1\t\n",
      "13\t18: 1\t16: 1\t14: 1\t10: 1\t8: 1\t6: 1\t\n",
      "14\t18: 1\t16: 1\t13: 1\t\n",
      "15\t17: 1\t12: 1\t11: 1\t\n",
      "16\t18: 1\t14: 1\t13: 1\t\n",
      "17\t15: 1\t12: 1\t11: 1\t\n",
      "18\t16: 1\t14: 1\t13: 1\t8: 1\t5: 1\t\n",
      "19\t2: 1\t\n",
      "20\t5: 1\t\n",
      "\n",
      "\n",
      "BREADTH FIRST SEARCH:\n",
      "\t\t1: black-2\t\n",
      "\t2: black-1\t\n",
      "3: black-0\t\n",
      "\t4: black-1\t\n",
      "\t\t5: black-2\t\n",
      "\t\t6: black-2\t\n",
      "\t\t7: black-2\t\n",
      "\t\t\t8: black-3\t\n",
      "\t\t9: black-2\t\n",
      "\t\t\t10: black-3\t\n",
      "\t\t\t11: black-3\t\n",
      "\t\t12: black-2\t\n",
      "\t\t\t13: black-3\t\n",
      "\t\t\t\t14: black-4\t\n",
      "\t\t\t15: black-3\t\n",
      "\t\t\t\t16: black-4\t\n",
      "\t\t\t17: black-3\t\n",
      "\t\t\t18: black-3\t\n",
      "\t\t19: black-2\t\n",
      "\t\t\t20: black-3\t\n",
      "\n"
     ]
    }
   ],
   "source": [
    "TAM = 20\n",
    "times = 0\n",
    "obj_graph = Graph()\n",
    "matrix = None\n",
    "# graph directed (1) no directed (2)\n",
    "g_d = 2\n",
    "# graph with cost (1) without cost (2)\n",
    "g_c = 2\n",
    "# number of nodes\n",
    "n_n = TAM\n",
    "# edges (u, v)\n",
    "#nodes_numbers = [1, 2, 2, 3, 3, 4, 4, 6, 4, 5, 6, 5, 6, 7, 5, 7, 7, 8, 5, 8]\n",
    "nodes_numbers = [1,5,1,2,1,7,1,6,1,11,1,9,1,12,2,7,2,6,2,5,2,19,2,3,2,9,2,12,3,4,5,18,5,6,5,8,5,7,5,20,6,13,6,9,6,12,7,8,7,10,8,10,8,13,8,18,9,11,9,12,10,13,10,12,11,12,11,17,11,15,12,17,12,15,13,14,13,16,13,18,14,16,14,18,15,17,16,18]\n",
    "#nodes_numbers = []\n",
    "#for i in range(0, TAM):\n",
    "#    nodes_numbers.append(random.randint(1, TAM))\n",
    "print(nodes_numbers)\n",
    "# number of edges\n",
    "n_e = len(nodes_numbers)/2\n",
    "main()"
   ]
  },
  {
   "cell_type": "code",
   "execution_count": 12,
   "metadata": {
    "collapsed": true
   },
   "outputs": [],
   "source": [
    "def main_graph(n_n, n_e, g_c, g_d):\n",
    "    global matrix, MAXV\n",
    "    op = directed = cost = i = j = 0\n",
    "    directed = g_d\n",
    "    cost = g_c\n",
    "    hasCost = True if cost == 1 else False\n",
    "    num_nodes = n_n\n",
    "    MAXV = num_nodes\n",
    "    obj_graph.edges = []\n",
    "    obj_graph.grade = []\n",
    "    start_graph(obj_graph)\n",
    "    obj_graph.num_nodes = num_nodes\n",
    "    obj_graph.directed = True if directed == 1 else False\n",
    "    matrix = np.zeros((obj_graph.num_nodes, obj_graph.num_nodes))\n",
    "    obj_graph.num_edges = n_e\n",
    "    create_graph(obj_graph, hasCost, matrix)\n",
    "    random_int = random.randint(1, num_nodes)\n",
    "    while obj_graph.edges[random_int] == None:\n",
    "        random_int = random.randint(1, num_nodes)\n",
    "    breadth_first_search(obj_graph, random_int)"
   ]
  },
  {
   "cell_type": "code",
   "execution_count": 13,
   "metadata": {
    "collapsed": true
   },
   "outputs": [],
   "source": [
    "TAM = 100\n",
    "x = list(range(2,TAM,1))\n",
    "y_complete = []\n",
    "y_average = []\n",
    "y_lineal = []\n",
    "nodes_numbers = []\n",
    "g_d = 2\n",
    "g_c = 2\n",
    "\n",
    "obj_graph = None\n",
    "matrix = None\n",
    "\n",
    "for num in x:\n",
    "    nodes_numbers = []\n",
    "    obj_graph = Graph()\n",
    "    matrix = None\n",
    "    \n",
    "    n_n = num\n",
    "    for i in range(0, num):\n",
    "        nodes_numbers.append(random.randint(1, num))\n",
    "    n_e = len(nodes_numbers)//2\n",
    "    times = 0\n",
    "    main_graph(n_n, n_e, g_c, g_d)\n",
    "    y_average.append(times)\n",
    "    \n",
    "    # complete graph\n",
    "    nodes_numbers = []\n",
    "    for i in range(0, num):\n",
    "        for j in range (0, num):\n",
    "            if j > i:\n",
    "                nodes_numbers.append(i+1)\n",
    "                nodes_numbers.append(j+1)\n",
    "    n_e = len(nodes_numbers)//2\n",
    "    times = 0\n",
    "    main_graph(n_n, n_e, g_c, g_d)\n",
    "    y_complete.append(times)\n",
    "\n",
    "    # lineal graph\n",
    "    times = 0\n",
    "    nodes_numbers = []\n",
    "    for i in range(2, num+1):\n",
    "        nodes_numbers.append(i-1)\n",
    "        nodes_numbers.append(i)\n",
    "        \n",
    "    n_e = len(nodes_numbers)//2\n",
    "    times = 0\n",
    "    main_graph(n_n, n_e, g_c, g_d)\n",
    "    y_lineal.append(times)"
   ]
  },
  {
   "cell_type": "code",
   "execution_count": 14,
   "metadata": {},
   "outputs": [
    {
     "data": {
      "image/png": "[encoded data removed]",
      "text/plain": [
       "<matplotlib.figure.Figure at 0x10c0d74a8>"
      ]
     },
     "metadata": {},
     "output_type": "display_data"
    },
    {
     "data": {
      "image/png": "[encoded data removed]",
      "text/plain": [
       "<matplotlib.figure.Figure at 0x1080c7ac8>"
      ]
     },
     "metadata": {},
     "output_type": "display_data"
    },
    {
     "data": {
      "image/png": "[encoded data removed]",
      "text/plain": [
       "<matplotlib.figure.Figure at 0x10c1fa550>"
      ]
     },
     "metadata": {},
     "output_type": "display_data"
    }
   ],
   "source": [
    "fig, ax = plt.subplots(facecolor='w', edgecolor='k')\n",
    "ax.plot(x, y_average, marker=\"o\",color=\"b\", linestyle='None')\n",
    "ax.set_xlabel('x')\n",
    "ax.set_ylabel('y')\n",
    "ax.grid(True)\n",
    "ax.legend([\"Breath first search\"])\n",
    "plt.title('Breath first search (average case)')\n",
    "plt.show()\n",
    "\n",
    "fig, ax = plt.subplots(facecolor='w', edgecolor='k')\n",
    "ax.plot(x, y_complete, marker=\"o\",color=\"b\", linestyle='None')\n",
    "ax.set_xlabel('x')\n",
    "ax.set_ylabel('y')\n",
    "ax.grid(True)\n",
    "ax.legend([\"Breath first search\"])\n",
    "plt.title('Breath first search (complete graph)')\n",
    "plt.show()\n",
    "\n",
    "fig, ax = plt.subplots(facecolor='w', edgecolor='k')\n",
    "ax.plot(x, y_lineal, marker=\"o\",color=\"b\", linestyle='None')\n",
    "ax.set_xlabel('x')\n",
    "ax.set_ylabel('y')\n",
    "ax.grid(True)\n",
    "ax.legend([\"Breath first search\"])\n",
    "plt.title('Breath first search (linear graph)')\n",
    "plt.show()"
   ]
  },
  {
   "cell_type": "code",
   "execution_count": null,
   "metadata": {
    "collapsed": true
   },
   "outputs": [],
   "source": []
  }
 ],
 "metadata": {
  "kernelspec": {
   "display_name": "Python 3",
   "language": "python",
   "name": "python3"
  },
  "language_info": {
   "codemirror_mode": {
    "name": "ipython",
    "version": 3
   },
   "file_extension": ".py",
   "mimetype": "text/x-python",
   "name": "python",
   "nbconvert_exporter": "python",
   "pygments_lexer": "ipython3",
   "version": "3.6.3"
  }
 },
 "nbformat": 4,
 "nbformat_minor": 2
}
