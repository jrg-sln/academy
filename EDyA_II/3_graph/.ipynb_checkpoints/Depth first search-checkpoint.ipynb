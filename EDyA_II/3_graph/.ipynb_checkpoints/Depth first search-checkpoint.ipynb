{
 "cells": [
  {
   "cell_type": "markdown",
   "metadata": {},
   "source": [
    "## depth-first search "
   ]
  },
  {
   "cell_type": "markdown",
   "metadata": {},
   "source": [
    "Un algoritmo de búsqueda por profundidad o depth-first search consiste (como su nombre lo indica) en buscar profundamente en el grafo como sea posible.\n",
    "\n",
    "El algoritmo explora las aristas que no han sido exploradas del último vértice v descubierto. Cuando todas las aristas de v han sido exploradas, la búsqueda vuelve hacia atrás (backtrack) para explorar las aristas no exploradas del vértice por el cual se descubrió el vértice v."
   ]
  },
  {
   "cell_type": "code",
   "execution_count": 1,
   "metadata": {},
   "outputs": [
    {
     "name": "stdout",
     "output_type": "stream",
     "text": [
      "Populating the interactive namespace from numpy and matplotlib\n"
     ]
    }
   ],
   "source": [
    "%pylab inline\n",
    "import matplotlib.pyplot as plt\n",
    "from mpl_toolkits.mplot3d import Axes3D\n",
    "\n",
    "import random\n",
    "import numpy as np\n",
    "MAXV = 0"
   ]
  },
  {
   "cell_type": "code",
   "execution_count": 2,
   "metadata": {
    "collapsed": true
   },
   "outputs": [],
   "source": [
    "class node:\n",
    "    to = 0\n",
    "    cost = 0\n",
    "    nxt = None\n",
    "    # DFS\n",
    "    prev = None\n",
    "    # color: 0-blank, 1-gray, 2-black\n",
    "    color = 0\n",
    "    # distance\n",
    "    distance = -1\n",
    "    # final distance\n",
    "    final = -1"
   ]
  },
  {
   "cell_type": "code",
   "execution_count": 3,
   "metadata": {
    "collapsed": true
   },
   "outputs": [],
   "source": [
    "class graph:\n",
    "    edges = []\n",
    "    grade = []\n",
    "    num_nodes = 0\n",
    "    num_edges = 0\n",
    "    directed = False"
   ]
  },
  {
   "cell_type": "code",
   "execution_count": 4,
   "metadata": {
    "collapsed": true
   },
   "outputs": [],
   "source": [
    "def start_graph (objGraph):\n",
    "    i = 0\n",
    "    objGraph.num_nodes = 0\n",
    "    objGraph.num_edges = 0\n",
    "    while i<=MAXV:\n",
    "        objGraph.grade.append(0)\n",
    "        objGraph.edges.append(None)\n",
    "        i += 1"
   ]
  },
  {
   "cell_type": "code",
   "execution_count": 5,
   "metadata": {
    "collapsed": true
   },
   "outputs": [],
   "source": [
    "def insert_edge(objGraph, intU, intV, cost, isDirected):\n",
    "    item = node()\n",
    "    item.cost = cost\n",
    "    item.to = intV;\n",
    "    item.nxt = objGraph.edges[intU]\n",
    "    objGraph.edges[intU] = item\n",
    "    objGraph.grade[intU] += 1\n",
    "    if isDirected == False and intV != intU:\n",
    "        insert_edge(objGraph, intV, intU, cost, True)\n",
    "    else:\n",
    "        objGraph.num_edges += 1"
   ]
  },
  {
   "cell_type": "code",
   "execution_count": 6,
   "metadata": {
    "collapsed": true
   },
   "outputs": [],
   "source": [
    "def create_graph (objGraph, hasCost, intMatrix):\n",
    "    global nodes_numbers\n",
    "    i = 0;\n",
    "    u = v = cost = 0\n",
    "    number_edges = objGraph.num_edges\n",
    "    count_nodes_numbers = 0\n",
    "    while i < number_edges:\n",
    "        #print(\"Insert edge (u, v)\")\n",
    "        #u = int(input('u: '))\n",
    "        u = nodes_numbers[count_nodes_numbers]\n",
    "        count_nodes_numbers += 1\n",
    "        #v = int(input('v: '))\n",
    "        v = nodes_numbers[count_nodes_numbers]\n",
    "        count_nodes_numbers += 1\n",
    "        if hasCost == True :\n",
    "            print(\"Insert cost or weight from edge:\")\n",
    "            cost = int(input('Cost / weight: '))\n",
    "        else:\n",
    "            cost = 1\n",
    "        # insert cost on the adjacent matrix\n",
    "        intMatrix[(v-1)][(u-1)] = cost;\n",
    "        if objGraph.directed == False:\n",
    "            intMatrix[(u-1)][v-1] = cost;\n",
    "        # insert edge on the adjacent list\n",
    "        insert_edge(objGraph, u, v, cost, objGraph.directed);\n",
    "        i += 1"
   ]
  },
  {
   "cell_type": "code",
   "execution_count": 7,
   "metadata": {
    "collapsed": true
   },
   "outputs": [],
   "source": [
    "def print_graph(objGraph, intMatrix):\n",
    "    i = 1\n",
    "    item = None\n",
    "    print(\"\\nADJACENT LIST:\")\n",
    "    string = \"\"\n",
    "    while i <= objGraph.num_nodes:\n",
    "        string += str(i) + \"\\t\"\n",
    "        item = objGraph.edges[i]\n",
    "        while item != None:\n",
    "            string += str(item.to) + \": \" + str(item.cost) + \"\\t\"\n",
    "            item = item.nxt;\n",
    "        string += \"\\n\"\n",
    "        i += 1\n",
    "    print(string)"
   ]
  },
  {
   "cell_type": "code",
   "execution_count": 8,
   "metadata": {
    "collapsed": true
   },
   "outputs": [],
   "source": [
    "# color: 0-blank, 1-gray, 2-black\n",
    "def depth_first_search(objGraph):\n",
    "    global times\n",
    "    i = 1\n",
    "    while i <= objGraph.num_nodes:\n",
    "        times += 1\n",
    "        if objGraph.edges[i] != None:\n",
    "            if objGraph.edges[i].color == 0:\n",
    "                DFS_visit(objGraph, i)\n",
    "        i += 1\n",
    "\n",
    "\n",
    "def DFS_visit(objGraph, u):\n",
    "        global time, times\n",
    "        # se descubre el nodo\n",
    "        objGraph.edges[u].color = 1\n",
    "        time += 1\n",
    "        objGraph.edges[u].distance = time\n",
    "        v = objGraph.edges[u]\n",
    "        while v != None:\n",
    "            times += 1\n",
    "            if objGraph.edges[v.to] != None:\n",
    "                if objGraph.edges[v.to].color == 0:\n",
    "                    objGraph.edges[v.to].prev = objGraph.edges[u]\n",
    "                    DFS_visit(objGraph, v.to)\n",
    "            v = v.nxt\n",
    "        objGraph.edges[u].color = 2\n",
    "        time += 1\n",
    "        objGraph.edges[u].final = time"
   ]
  },
  {
   "cell_type": "code",
   "execution_count": 9,
   "metadata": {
    "collapsed": true
   },
   "outputs": [],
   "source": [
    "def print_graph_color(objGraph):\n",
    "    i = 1\n",
    "    item = None\n",
    "    print(\"\\nDEPTH FIRST SEARCH:\")\n",
    "    string = \"\"\n",
    "    while i <= objGraph.num_nodes:\n",
    "        if objGraph.edges[i] != None:\n",
    "            color = \"blank\" if objGraph.edges[i].color == 0 else \"gray\" if objGraph.edges[i].color == 1 else \"black\"\n",
    "            string += str(i) + \": \" + color + \"-\" +  str(objGraph.edges[i].distance) + \"-\" + str(objGraph.edges[i].final) + \"\\t\"\n",
    "            string += \"\\n\"\n",
    "        i += 1\n",
    "    print(string)"
   ]
  },
  {
   "cell_type": "code",
   "execution_count": 10,
   "metadata": {
    "collapsed": true
   },
   "outputs": [],
   "source": [
    "def main():\n",
    "    global matrix, MAXV, n_n, n_e, g_c, g_d\n",
    "    op = directed = cost = i = j = 0\n",
    "    print(\"\\n####### GRAPH STRUCTURE #######\\n\")\n",
    "    directed = g_d\n",
    "    cost = g_c\n",
    "    hasCost = True if cost == 1 else False\n",
    "    num_nodes = n_n\n",
    "    MAXV = num_nodes\n",
    "    obj_graph.edges = []\n",
    "    obj_graph.grade = []\n",
    "    start_graph(obj_graph)\n",
    "    obj_graph.num_nodes = num_nodes\n",
    "    obj_graph.directed = True if directed == 1 else False\n",
    "    matrix = np.zeros((obj_graph.num_nodes, obj_graph.num_nodes))\n",
    "    obj_graph.num_edges = n_e\n",
    "\n",
    "    create_graph(obj_graph, hasCost, matrix)\n",
    "    print_graph(obj_graph, matrix)\n",
    "    depth_first_search(obj_graph)\n",
    "    print_graph_color(obj_graph)"
   ]
  },
  {
   "cell_type": "code",
   "execution_count": 11,
   "metadata": {},
   "outputs": [
    {
     "name": "stdout",
     "output_type": "stream",
     "text": [
      "\n",
      "####### GRAPH STRUCTURE #######\n",
      "\n",
      "\n",
      "ADJACENT LIST:\n",
      "1\t12: 1\t9: 1\t11: 1\t6: 1\t7: 1\t2: 1\t5: 1\t\n",
      "2\t12: 1\t9: 1\t3: 1\t19: 1\t5: 1\t6: 1\t7: 1\t1: 1\t\n",
      "3\t4: 1\t2: 1\t\n",
      "4\t3: 1\t\n",
      "5\t20: 1\t7: 1\t8: 1\t6: 1\t18: 1\t2: 1\t1: 1\t\n",
      "6\t12: 1\t9: 1\t13: 1\t5: 1\t2: 1\t1: 1\t\n",
      "7\t10: 1\t8: 1\t5: 1\t2: 1\t1: 1\t\n",
      "8\t18: 1\t13: 1\t10: 1\t7: 1\t5: 1\t\n",
      "9\t12: 1\t11: 1\t6: 1\t2: 1\t1: 1\t\n",
      "10\t12: 1\t13: 1\t8: 1\t7: 1\t\n",
      "11\t15: 1\t17: 1\t12: 1\t9: 1\t1: 1\t\n",
      "12\t15: 1\t17: 1\t11: 1\t10: 1\t9: 1\t6: 1\t2: 1\t1: 1\t\n",
      "13\t18: 1\t16: 1\t14: 1\t10: 1\t8: 1\t6: 1\t\n",
      "14\t18: 1\t16: 1\t13: 1\t\n",
      "15\t17: 1\t12: 1\t11: 1\t\n",
      "16\t18: 1\t14: 1\t13: 1\t\n",
      "17\t15: 1\t12: 1\t11: 1\t\n",
      "18\t16: 1\t14: 1\t13: 1\t8: 1\t5: 1\t\n",
      "19\t2: 1\t\n",
      "20\t5: 1\t\n",
      "\n",
      "\n",
      "DEPTH FIRST SEARCH:\n",
      "1: black-1-40\t\n",
      "2: black-20-27\t\n",
      "3: black-21-24\t\n",
      "4: black-22-23\t\n",
      "5: black-17-28\t\n",
      "6: black-7-34\t\n",
      "7: black-16-29\t\n",
      "8: black-14-31\t\n",
      "9: black-6-35\t\n",
      "10: black-15-30\t\n",
      "11: black-5-36\t\n",
      "12: black-2-39\t\n",
      "13: black-8-33\t\n",
      "14: black-11-12\t\n",
      "15: black-3-38\t\n",
      "16: black-10-13\t\n",
      "17: black-4-37\t\n",
      "18: black-9-32\t\n",
      "19: black-25-26\t\n",
      "20: black-18-19\t\n",
      "\n"
     ]
    }
   ],
   "source": [
    "NODES = 20\n",
    "time = 0\n",
    "times = 0\n",
    "obj_graph = graph()\n",
    "matrix = None\n",
    "# graph directed (1) no directed (2)\n",
    "g_d = 2\n",
    "# graph with cost (1) without cost (2)\n",
    "g_c = 2\n",
    "# number of nodes\n",
    "n_n = NODES\n",
    "# edges (u, v)\n",
    "#nodes_numbers = [1, 4, 1, 2, 4, 2, 2, 5, 5, 4, 3, 6, 3, 5, 6, 6]\n",
    "nodes_numbers = [1,5,1,2,1,7,1,6,1,11,1,9,1,12,2,7,2,6,2,5,2,19,2,3,2,9,2,12,3,4,5,18,5,6,5,8,5,7,5,20,6,13,6,9,6,12,7,8,7,10,8,10,8,13,8,18,9,11,9,12,10,13,10,12,11,12,11,17,11,15,12,17,12,15,13,14,13,16,13,18,14,16,14,18,15,17,16,18]\n",
    "# number of edges\n",
    "n_e = len(nodes_numbers)/2\n",
    "main()"
   ]
  },
  {
   "cell_type": "code",
   "execution_count": 12,
   "metadata": {
    "collapsed": true
   },
   "outputs": [],
   "source": [
    "def main_graph(n_n, n_e, g_c, g_d):\n",
    "    global matrix, MAXV\n",
    "    op = directed = cost = i = j = 0\n",
    "    directed = g_d\n",
    "    cost = g_c\n",
    "    hasCost = True if cost == 1 else False\n",
    "    num_nodes = n_n\n",
    "    MAXV = num_nodes\n",
    "    obj_graph.edges = []\n",
    "    obj_graph.grade = []\n",
    "    start_graph(obj_graph)\n",
    "    obj_graph.num_nodes = num_nodes\n",
    "    obj_graph.directed = True if directed == 1 else False\n",
    "    matrix = np.zeros((obj_graph.num_nodes, obj_graph.num_nodes))\n",
    "    obj_graph.num_edges = n_e\n",
    "\n",
    "    create_graph(obj_graph, hasCost, matrix)\n",
    "    #print_graph(obj_graph, matrix)\n",
    "    depth_first_search(obj_graph)"
   ]
  },
  {
   "cell_type": "code",
   "execution_count": 13,
   "metadata": {},
   "outputs": [],
   "source": [
    "TAM = 100\n",
    "x = list(range(2,TAM,1))\n",
    "y_complete = []\n",
    "y_average = []\n",
    "y_lineal = []\n",
    "nodes_numbers = []\n",
    "g_d = 2\n",
    "g_c = 2\n",
    "\n",
    "obj_graph = None\n",
    "matrix = None\n",
    "\n",
    "for num in x:\n",
    "    nodes_numbers = []\n",
    "    obj_graph = graph()\n",
    "    matrix = None\n",
    "    \n",
    "    n_n = num\n",
    "    for i in range(0, num):\n",
    "        nodes_numbers.append(random.randint(1, num))\n",
    "    n_e = len(nodes_numbers)//2\n",
    "    times = 0\n",
    "    main_graph(n_n, n_e, g_c, g_d)\n",
    "    y_average.append(times)\n",
    "    \n",
    "    # complete graph\n",
    "    nodes_numbers = []\n",
    "    for i in range(0, num):\n",
    "        for j in range (0, num):\n",
    "            if j > i:\n",
    "                nodes_numbers.append(i+1)\n",
    "                nodes_numbers.append(j+1)\n",
    "    n_e = len(nodes_numbers)//2\n",
    "    times = 0\n",
    "    main_graph(n_n, n_e, g_c, g_d)\n",
    "    y_complete.append(times)\n",
    "\n",
    "    # lineal graph\n",
    "    times = 0\n",
    "    nodes_numbers = []\n",
    "    for i in range(2, num+1):\n",
    "        nodes_numbers.append(i-1)\n",
    "        nodes_numbers.append(i)\n",
    "        \n",
    "    n_e = len(nodes_numbers)//2\n",
    "    times = 0\n",
    "    main_graph(n_n, n_e, g_c, g_d)\n",
    "    y_lineal.append(times)"
   ]
  },
  {
   "cell_type": "code",
   "execution_count": 14,
   "metadata": {},
   "outputs": [
    {
     "data": {
      "image/png": "[encoded data removed]",
      "text/plain": [
       "<matplotlib.figure.Figure at 0x10ade9390>"
      ]
     },
     "metadata": {},
     "output_type": "display_data"
    },
    {
     "data": {
      "image/png": "[encoded data removed]",
      "text/plain": [
       "<matplotlib.figure.Figure at 0x10b0a3470>"
      ]
     },
     "metadata": {},
     "output_type": "display_data"
    },
    {
     "data": {
      "image/png": "[encoded data removed]",
      "text/plain": [
       "<matplotlib.figure.Figure at 0x10b0dd5f8>"
      ]
     },
     "metadata": {},
     "output_type": "display_data"
    }
   ],
   "source": [
    "fig, ax = plt.subplots(facecolor='w', edgecolor='k')\n",
    "ax.plot(x, y_average, marker=\"o\",color=\"b\", linestyle='None')\n",
    "ax.set_xlabel('x')\n",
    "ax.set_ylabel('y')\n",
    "ax.grid(True)\n",
    "ax.legend([\"Breath first search\"])\n",
    "plt.title('Breath first search (average case)')\n",
    "plt.show()\n",
    "\n",
    "fig, ax = plt.subplots(facecolor='w', edgecolor='k')\n",
    "ax.plot(x, y_complete, marker=\"o\",color=\"b\", linestyle='None')\n",
    "ax.set_xlabel('x')\n",
    "ax.set_ylabel('y')\n",
    "ax.grid(True)\n",
    "ax.legend([\"Breath first search\"])\n",
    "plt.title('Breath first search (complete graph)')\n",
    "plt.show()\n",
    "\n",
    "fig, ax = plt.subplots(facecolor='w', edgecolor='k')\n",
    "ax.plot(x, y_lineal, marker=\"o\",color=\"b\", linestyle='None')\n",
    "ax.set_xlabel('x')\n",
    "ax.set_ylabel('y')\n",
    "ax.grid(True)\n",
    "ax.legend([\"Breath first search\"])\n",
    "plt.title('Breath first search (linear graph)')\n",
    "plt.show()"
   ]
  },
  {
   "cell_type": "code",
   "execution_count": null,
   "metadata": {
    "collapsed": true
   },
   "outputs": [],
   "source": []
  }
 ],
 "metadata": {
  "kernelspec": {
   "display_name": "Python 3",
   "language": "python",
   "name": "python3"
  },
  "language_info": {
   "codemirror_mode": {
    "name": "ipython",
    "version": 3
   },
   "file_extension": ".py",
   "mimetype": "text/x-python",
   "name": "python",
   "nbconvert_exporter": "python",
   "pygments_lexer": "ipython3",
   "version": "3.6.3"
  }
 },
 "nbformat": 4,
 "nbformat_minor": 2
}
