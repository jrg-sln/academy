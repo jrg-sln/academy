{
 "cells": [
  {
   "cell_type": "markdown",
   "metadata": {},
   "source": [
    "## Graph"
   ]
  },
  {
   "cell_type": "markdown",
   "metadata": {},
   "source": [
    "Las gráficas o grafos son estructuras de datos no lineales, esto es, cada elemento puede tener uno o más predecesores y uno o más sucesores.\n",
    "\n",
    "Un grafo está compuesto por dos elementos básicos: nodos (vértices) y arcos (aristas). Las aristas se encargan de conectar los nodos entre sí."
   ]
  },
  {
   "cell_type": "code",
   "execution_count": null,
   "metadata": {
    "collapsed": true
   },
   "outputs": [],
   "source": [
    "import numpy as np\n",
    "\n",
    "MAXV = 0"
   ]
  },
  {
   "cell_type": "code",
   "execution_count": null,
   "metadata": {
    "collapsed": true
   },
   "outputs": [],
   "source": [
    "class Node:\n",
    "    to = 0\n",
    "    cost = 0\n",
    "    nxt = None"
   ]
  },
  {
   "cell_type": "code",
   "execution_count": null,
   "metadata": {
    "collapsed": true
   },
   "outputs": [],
   "source": [
    "class Graph:\n",
    "    # from edge (u)\n",
    "    edges = []\n",
    "    # extern grade from each node\n",
    "    grade = []\n",
    "    num_nodes = 0\n",
    "    num_edges = 0\n",
    "    directed = False"
   ]
  },
  {
   "cell_type": "code",
   "execution_count": null,
   "metadata": {
    "collapsed": true
   },
   "outputs": [],
   "source": [
    "def start_graph(objGraph):\n",
    "    objGraph.num_nodes = 0\n",
    "    objGraph.num_edges = 0\n",
    "    i = 0\n",
    "    while i <= MAXV:\n",
    "        objGraph.grade.append(0)\n",
    "        i += 1\n",
    "    i = 0\n",
    "    while i <= MAXV:\n",
    "        objGraph.edges.append(None)\n",
    "        i += 1"
   ]
  },
  {
   "cell_type": "code",
   "execution_count": null,
   "metadata": {
    "collapsed": true
   },
   "outputs": [],
   "source": [
    "def insert_edge(objGraph, intU, intV, cost, isDirected):\n",
    "    item = Node()\n",
    "    item.cost = cost\n",
    "    item.to = intV;\n",
    "    item.nxt = objGraph.edges[intU]\n",
    "    objGraph.edges[intU] = item\n",
    "    objGraph.grade[intU] += 1\n",
    "    if isDirected == False and intV != intU:\n",
    "        insert_edge(objGraph, intV, intU, cost, True)\n",
    "    else:\n",
    "        objGraph.num_edges += 1"
   ]
  },
  {
   "cell_type": "code",
   "execution_count": null,
   "metadata": {
    "collapsed": true
   },
   "outputs": [],
   "source": [
    "def create_graph (objGraph, hasCost, intMatrix):\n",
    "    i = 0;\n",
    "    u = v = cost = 0\n",
    "    number_edges = objGraph.num_edges\n",
    "    while i < number_edges:\n",
    "        print(\"Insert edge (u, v)\")\n",
    "        u = int(input('u: '))\n",
    "        v = int(input('v: '))\n",
    "        if hasCost == True :\n",
    "            print(\"Insert cost or weight from edge:\")\n",
    "            cost = int(input('Cost / weight: '))\n",
    "        else:\n",
    "            cost = 1\n",
    "        # insert cost on the adjacent matrix\n",
    "        intMatrix[(v-1)][(u-1)] = cost;\n",
    "        if objGraph.directed == False:\n",
    "            intMatrix[(u-1)][v-1] = cost;\n",
    "        # insert edge on the adjacent list\n",
    "        insert_edge(objGraph, u, v, cost, objGraph.directed);\n",
    "        i += 1"
   ]
  },
  {
   "cell_type": "code",
   "execution_count": null,
   "metadata": {
    "collapsed": true
   },
   "outputs": [],
   "source": [
    "def print_graph(objGraph, intMatrix):\n",
    "    i = 1\n",
    "    item = None\n",
    "    print(\"\\nADJACENT LIST:\")\n",
    "    string = \"\"\n",
    "    while i <= objGraph.num_nodes:\n",
    "        string += str(i) + \"\\t\"\n",
    "        item = objGraph.edges[i]\n",
    "        while item != None:\n",
    "            string += str(item.to) + \": \" + str(item.cost) +\"\\t\"\n",
    "            item = item.nxt;\n",
    "        string += \"\\n\"\n",
    "        i += 1\n",
    "    print(string)\n",
    "    print(\"ADJACENT MATRIX:\")\n",
    "    print (intMatrix)\n",
    "    print()"
   ]
  },
  {
   "cell_type": "code",
   "execution_count": null,
   "metadata": {
    "collapsed": true
   },
   "outputs": [],
   "source": [
    "def main():\n",
    "    global matrix, MAXV\n",
    "    op = directed = cost = i = j = 0\n",
    "    print(\"\\n####### GRAPH STRUCTURE #######\\n\")\n",
    "    print(\"\\nWhat kind of graph is it?\\n\")\n",
    "    print(\"\\t1) Directed.\\n\")\n",
    "    print(\"\\t2) No directed.\\n\")\n",
    "    directed = int(input())\n",
    "\n",
    "    print(\"\\nAre the edges cost / weight?\\n\")\n",
    "    print(\"\\t1) YES.\\n\")\n",
    "    print(\"\\t2) NO.\\n\")\n",
    "    cost = int(input())\n",
    "    hasCost = True if cost == 1 else False\n",
    "\n",
    "    print(\"Number of nodes.\\n\")\n",
    "    num_nodes = int(input())\n",
    "\n",
    "    MAXV = num_nodes*num_nodes\n",
    "    start_graph(obj_graph)\n",
    "    obj_graph.num_nodes = num_nodes\n",
    "    obj_graph.directed = True if directed == 1 else False\n",
    "    matrix = np.zeros((obj_graph.num_nodes, obj_graph.num_nodes))\n",
    "\n",
    "    print(\"Number of edges.\\n\")\n",
    "    obj_graph.num_edges = int(input())\n",
    "\n",
    "    create_graph(obj_graph, hasCost, matrix)\n",
    "    print_graph(obj_graph, matrix)"
   ]
  },
  {
   "cell_type": "code",
   "execution_count": null,
   "metadata": {
    "collapsed": true
   },
   "outputs": [],
   "source": [
    "obj_graph = Graph()\n",
    "matrix = None\n",
    "main()"
   ]
  },
  {
   "cell_type": "code",
   "execution_count": null,
   "metadata": {
    "collapsed": true
   },
   "outputs": [],
   "source": []
  }
 ],
 "metadata": {
  "anaconda-cloud": {},
  "kernelspec": {
   "display_name": "Python 3",
   "language": "python",
   "name": "python3"
  },
  "language_info": {
   "codemirror_mode": {
    "name": "ipython",
    "version": 3
   },
   "file_extension": ".py",
   "mimetype": "text/x-python",
   "name": "python",
   "nbconvert_exporter": "python",
   "pygments_lexer": "ipython3",
   "version": "3.6.3"
  }
 },
 "nbformat": 4,
 "nbformat_minor": 1
}
