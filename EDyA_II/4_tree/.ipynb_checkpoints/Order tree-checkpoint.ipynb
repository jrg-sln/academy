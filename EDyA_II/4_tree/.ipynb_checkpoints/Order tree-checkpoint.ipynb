{
 "cells": [
  {
   "cell_type": "markdown",
   "metadata": {},
   "source": [
    "## Binary tree"
   ]
  },
  {
   "cell_type": "code",
   "execution_count": 1,
   "metadata": {},
   "outputs": [
    {
     "name": "stdout",
     "output_type": "stream",
     "text": [
      "Populating the interactive namespace from numpy and matplotlib\n"
     ]
    }
   ],
   "source": [
    "%pylab inline\n",
    "import matplotlib.pyplot as plt\n",
    "from mpl_toolkits.mplot3d import Axes3D\n",
    "\n",
    "import random\n",
    "import math\n",
    "import numpy as np"
   ]
  },
  {
   "cell_type": "code",
   "execution_count": 2,
   "metadata": {
    "collapsed": true
   },
   "outputs": [],
   "source": [
    "def left(val):\n",
    "        return val*2"
   ]
  },
  {
   "cell_type": "code",
   "execution_count": 3,
   "metadata": {
    "collapsed": true
   },
   "outputs": [],
   "source": [
    "def right(val):\n",
    "        return val*2+1"
   ]
  },
  {
   "cell_type": "code",
   "execution_count": 4,
   "metadata": {
    "collapsed": true
   },
   "outputs": [],
   "source": [
    "def inorder_print_tree(start_pos):\n",
    "    global printer\n",
    "    if start_pos <= len(array_bi) and nodes_values[start_pos-1] != '':\n",
    "        inorder_print_tree(left(start_pos))\n",
    "        printer += nodes_values[start_pos-1]\n",
    "        inorder_print_tree(right(start_pos))"
   ]
  },
  {
   "cell_type": "code",
   "execution_count": 5,
   "metadata": {
    "collapsed": true
   },
   "outputs": [],
   "source": [
    "def preorder_print_tree(start_pos):\n",
    "    global printer\n",
    "    if start_pos <= len(array_bi) and nodes_values[start_pos-1] != '':\n",
    "        printer += nodes_values[start_pos-1]\n",
    "        preorder_print_tree(left(start_pos))\n",
    "        preorder_print_tree(right(start_pos))"
   ]
  },
  {
   "cell_type": "code",
   "execution_count": 6,
   "metadata": {
    "collapsed": true
   },
   "outputs": [],
   "source": [
    "def posorder_print_tree(start_pos):\n",
    "    global printer\n",
    "    if start_pos <= len(array_bi) and nodes_values[start_pos-1] != '':\n",
    "        posorder_print_tree(left(start_pos))\n",
    "        posorder_print_tree(right(start_pos))\n",
    "        printer += nodes_values[start_pos-1]"
   ]
  },
  {
   "cell_type": "code",
   "execution_count": 7,
   "metadata": {
    "collapsed": true
   },
   "outputs": [],
   "source": [
    "def main():\n",
    "    global array_bi, root, num_nodes, height, printer\n",
    "    op = directed = cost = i = j = 0\n",
    "    print(\"\\n####### BINARY TREE STRUCTURE #######\\n\")\n",
    "    \n",
    "    i = 0\n",
    "    while i <= 2**height-1:\n",
    "        array_bi.append('')\n",
    "        i += 1\n",
    "\n",
    "    num_edges = num_nodes - 1\n",
    "    print(\"INORDER\")\n",
    "    printer = \"\"\n",
    "    inorder_print_tree(root)\n",
    "    print(printer)\n",
    "    print(\"\\nPREORDER\")\n",
    "    printer = \"\"\n",
    "    preorder_print_tree(root)\n",
    "    print(printer)\n",
    "    print(\"\\nPOSORDER\")\n",
    "    printer = \"\"\n",
    "    posorder_print_tree(root)\n",
    "    print(printer)"
   ]
  },
  {
   "cell_type": "code",
   "execution_count": 8,
   "metadata": {},
   "outputs": [
    {
     "name": "stdout",
     "output_type": "stream",
     "text": [
      "\n",
      "####### BINARY TREE STRUCTURE #######\n",
      "\n",
      "INORDER\n",
      "A*B+C/D^3\n",
      "\n",
      "PREORDER\n",
      "+*AB^/CD3\n",
      "\n",
      "POSORDER\n",
      "AB*CD/3^+\n"
     ]
    }
   ],
   "source": [
    "num_nodes = 9\n",
    "height = 4\n",
    "printer = \"\"\n",
    "array_bi = []\n",
    "nodes_edges = [1, 2, 0, 1, 3, 1, 2, 4, 0, 2, 5, 1, 3, 6, 0, 3, 7, 1, 6, 8, 0, 6, 9, 1]\n",
    "nodes_values = ['+','*', '^', 'A', 'B', '/', '3', '', '', '', '', 'C', 'D', '', '']\n",
    "root = 1\n",
    "main()"
   ]
  },
  {
   "cell_type": "code",
   "execution_count": 9,
   "metadata": {
    "collapsed": true
   },
   "outputs": [],
   "source": [
    "def inorder_print_tree_graph(start_pos):\n",
    "    global counter\n",
    "    counter += 1\n",
    "    if start_pos <= len(array_bi) and nodes_values[start_pos-1] != '':\n",
    "        inorder_print_tree_graph(left(start_pos))\n",
    "        #printer += nodes_values[start_pos-1]\n",
    "        inorder_print_tree_graph(right(start_pos))"
   ]
  },
  {
   "cell_type": "code",
   "execution_count": 10,
   "metadata": {
    "collapsed": true
   },
   "outputs": [],
   "source": [
    "def preorder_print_tree_graph(start_pos):\n",
    "    global counter\n",
    "    counter += 1\n",
    "    if start_pos <= len(array_bi) and nodes_values[start_pos-1] != '':\n",
    "        #printer += nodes_values[start_pos-1]\n",
    "        preorder_print_tree_graph(left(start_pos))\n",
    "        preorder_print_tree_graph(right(start_pos))"
   ]
  },
  {
   "cell_type": "code",
   "execution_count": 11,
   "metadata": {
    "collapsed": true
   },
   "outputs": [],
   "source": [
    "def posorder_print_tree_graph(start_pos):\n",
    "    global counter\n",
    "    counter += 1\n",
    "    if start_pos <= len(array_bi) and nodes_values[start_pos-1] != '':\n",
    "        posorder_print_tree_graph(left(start_pos))\n",
    "        posorder_print_tree_graph(right(start_pos))\n",
    "        #printer += nodes_values[start_pos-1]"
   ]
  },
  {
   "cell_type": "code",
   "execution_count": 12,
   "metadata": {},
   "outputs": [],
   "source": [
    "TAM = 1000\n",
    "num_nodes = 0\n",
    "height = 0\n",
    "counter = 0\n",
    "root = 1\n",
    "x = list(range(1,TAM,2))\n",
    "y_in = []\n",
    "y_pre = []\n",
    "y_pos = []\n",
    "\n",
    "for i in range(1, TAM, 2):\n",
    "    nodes_values = []\n",
    "    array_bi = []\n",
    "    height = int(math.log(i, 2))+1\n",
    "    c = 0\n",
    "    while c <= 2**height-1:\n",
    "        nodes_values.append('')\n",
    "        c += 1\n",
    "    \n",
    "    c = 0\n",
    "    while c <= 2**height-1:\n",
    "        array_bi.append('')\n",
    "        c += 1\n",
    "    \n",
    "    for j in range(i):\n",
    "        nodes_values[j] = str(random.randint(1, TAM))\n",
    "    \n",
    "    counter = 0\n",
    "    inorder_print_tree_graph(root)\n",
    "    y_in.append(counter)\n",
    "    \n",
    "    counter = 0\n",
    "    preorder_print_tree_graph(root)\n",
    "    y_pre.append(counter)\n",
    "    \n",
    "    counter = 0\n",
    "    posorder_print_tree_graph(root)\n",
    "    y_pos.append(counter)\n",
    "    "
   ]
  },
  {
   "cell_type": "code",
   "execution_count": 13,
   "metadata": {},
   "outputs": [
    {
     "data": {
      "image/png": "[encoded data removed]",
      "text/plain": [
       "<matplotlib.figure.Figure at 0x114112f28>"
      ]
     },
     "metadata": {},
     "output_type": "display_data"
    },
    {
     "data": {
      "image/png": "[encoded data removed]",
      "text/plain": [
       "<matplotlib.figure.Figure at 0x11808a668>"
      ]
     },
     "metadata": {},
     "output_type": "display_data"
    },
    {
     "data": {
      "image/png": "[encoded data removed]",
      "text/plain": [
       "<matplotlib.figure.Figure at 0x1181e6d30>"
      ]
     },
     "metadata": {},
     "output_type": "display_data"
    }
   ],
   "source": [
    "fig, ax = plt.subplots(facecolor='w', edgecolor='k')\n",
    "ax.plot(x, y_in, marker=\"o\",color=\"b\", linestyle='None')\n",
    "ax.set_xlabel('x')\n",
    "ax.set_ylabel('y')\n",
    "ax.grid(True)\n",
    "ax.legend([\"In order\"])\n",
    "plt.title('Inorder')\n",
    "plt.show()\n",
    "\n",
    "fig, ax = plt.subplots(facecolor='w', edgecolor='k')\n",
    "ax.plot(x, y_pre, marker=\"o\",color=\"b\", linestyle='None')\n",
    "ax.set_xlabel('x')\n",
    "ax.set_ylabel('y')\n",
    "ax.grid(True)\n",
    "ax.legend([\"Pre order\"])\n",
    "plt.title('Pre order')\n",
    "plt.show()\n",
    "\n",
    "fig, ax = plt.subplots(facecolor='w', edgecolor='k')\n",
    "ax.plot(x, y_pos, marker=\"o\",color=\"b\", linestyle='None')\n",
    "ax.set_xlabel('x')\n",
    "ax.set_ylabel('y')\n",
    "ax.grid(True)\n",
    "ax.legend([\"Pos order\"])\n",
    "plt.title('Pos order')\n",
    "plt.show()"
   ]
  },
  {
   "cell_type": "code",
   "execution_count": null,
   "metadata": {
    "collapsed": true
   },
   "outputs": [],
   "source": []
  }
 ],
 "metadata": {
  "kernelspec": {
   "display_name": "Python 3",
   "language": "python",
   "name": "python3"
  },
  "language_info": {
   "codemirror_mode": {
    "name": "ipython",
    "version": 3
   },
   "file_extension": ".py",
   "mimetype": "text/x-python",
   "name": "python",
   "nbconvert_exporter": "python",
   "pygments_lexer": "ipython3",
   "version": "3.6.3"
  }
 },
 "nbformat": 4,
 "nbformat_minor": 2
}
