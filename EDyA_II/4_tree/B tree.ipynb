{
 "cells": [
  {
   "cell_type": "markdown",
   "metadata": {},
   "source": [
    "## B tree"
   ]
  },
  {
   "cell_type": "code",
   "execution_count": 1,
   "metadata": {},
   "outputs": [
    {
     "name": "stdout",
     "output_type": "stream",
     "text": [
      "Populating the interactive namespace from numpy and matplotlib\n"
     ]
    }
   ],
   "source": [
    "%pylab inline\n",
    "import matplotlib.pyplot as plt\n",
    "from mpl_toolkits.mplot3d import Axes3D\n",
    "\n",
    "import random"
   ]
  },
  {
   "cell_type": "code",
   "execution_count": 2,
   "metadata": {
    "collapsed": true
   },
   "outputs": [],
   "source": [
    "class Node:\n",
    "    def __init__(self, d):\n",
    "        self.sons = list()\n",
    "        self.keys = list()\n",
    "        self.leaf = 1\n",
    "        self.n = 0\n",
    "        for k in range(2*d+1):\n",
    "            self.keys.append([None])\n",
    "        for k in range(2*d + 2):\n",
    "            self.sons.append([None])"
   ]
  },
  {
   "cell_type": "code",
   "execution_count": 21,
   "metadata": {
    "collapsed": true
   },
   "outputs": [],
   "source": [
    "class b_tree:\n",
    "    cont = 0\n",
    "    def __init__(self, min_grade):\n",
    "        self.d = min_grade\n",
    "        self.root = None\n",
    "\n",
    "    def create_b_tree(self):\n",
    "        if self.root == None:\n",
    "            self.root = Node(self.d)\n",
    "        return self.root\n",
    "\n",
    "    def split_b_tree(self, x, i):\n",
    "        z = Node(self.d)\n",
    "        y = x.sons[i]\n",
    "        z.leaf = y.leaf\n",
    "        z.n = self.d-1\n",
    "        self.cont += 1\n",
    "        \n",
    "        for j in range(1, self.d):\n",
    "            self.cont += 1\n",
    "            z.keys[j] = y.keys[j+self.d]\n",
    "            y.keys[j+self.d] = None\n",
    "\n",
    "        if y.leaf == 0:\n",
    "            for j in range(1, self.d + 1):\n",
    "                self.cont += 1\n",
    "                z.sons[j] = y.sons[j + self.d]\n",
    "                y.sons[j + self.d] = None\n",
    "\n",
    "        y.n = self.d - 1\n",
    "\n",
    "        for j in range(x.n + 1, i, -1):\n",
    "            self.cont += 1\n",
    "            x.sons[j+1] = x.sons[j]\n",
    "\n",
    "        x.sons[i+1] = z\n",
    "\n",
    "        for j in range (x.n, i-1, -1):\n",
    "            self.cont += 1\n",
    "            x.keys[j+1] = x.keys[j]\n",
    "\n",
    "        x.keys[i] = y.keys[self.d]\n",
    "        y.keys[self.d] = None\n",
    "        x.n = x.n + 1\n",
    "        \n",
    "    def insert_non_full_b_tree(self, x, k):\n",
    "        i = x.n\n",
    "        self.cont += 1\n",
    "        if x.leaf == 1:\n",
    "            while i >= 1 and k < x.keys[i]:\n",
    "                self.cont += 1\n",
    "                x.keys[i+1] = x.keys[i]\n",
    "                i -= 1\n",
    "            x.keys[i+1] = k\n",
    "            x.n = x.n + 1\n",
    "        else:\n",
    "            # Not a leaf\n",
    "            while i >= 1 and k < x.keys[i]:\n",
    "                self.cont += 1\n",
    "                i -= 1\n",
    "            i += 1\n",
    "            #if x.sons[i].n == 2*self.d - 1:\n",
    "            if x.sons[i].n == 2*self.d:\n",
    "                self.split_b_tree(x, i)\n",
    "                if k > x.keys[i]:\n",
    "                    i += 1\n",
    "            self.insert_non_full_b_tree(x.sons[i], k)\n",
    "\n",
    "    def insert_b_tree(self, k):\n",
    "        self.cont += 1\n",
    "        r = self.root\n",
    "        # Full node\n",
    "        #if r.n == 2*self.d - 1:\n",
    "        if r.n == 2*self.d:\n",
    "            s = Node(self.d)\n",
    "            self.root = s\n",
    "            s.leaf = 0\n",
    "            s.n = 0\n",
    "            s.sons[1] = r\n",
    "            self.split_b_tree(s, 1)\n",
    "            self.insert_non_full_b_tree(s, k)\n",
    "        else:\n",
    "            self.insert_non_full_b_tree(r, k)\n",
    "            \n",
    "    def print_node(self, node, nivel):\n",
    "        string = \"\"\n",
    "        # add position into the list to print results per level\n",
    "        if len(list_print) < nivel:\n",
    "            pos = len(list_print)\n",
    "            while pos < nivel:\n",
    "                list_print.append(\"\")\n",
    "                pos += 1\n",
    "\n",
    "        for i in range(1, 2*self.d+1, 1):\n",
    "            if node.keys[i] != None:\n",
    "                if type(node.keys[i]) is int:\n",
    "                    string += str(chr(node.keys[i])) + \"  \"\n",
    "                else:\n",
    "                    string += str(node.keys[i]) + \"  \"\n",
    "\n",
    "        list_print[nivel-1] += \"[\" + string + \"]\\t\"\n",
    "        \n",
    "        \n",
    "    def print_tree(self, root, level):\n",
    "        queue = []\n",
    "        level += 1\n",
    "        self.print_node(root, level)\n",
    "        i = 1\n",
    "        while i < len(root.sons):\n",
    "            if type(root.sons[i]) is Node:\n",
    "                self.print_tree(root.sons[i], level)\n",
    "            i+=1"
   ]
  },
  {
   "cell_type": "code",
   "execution_count": 22,
   "metadata": {},
   "outputs": [
    {
     "name": "stdout",
     "output_type": "stream",
     "text": [
      "[I  [None]  [None]  [None]  ]\t\n",
      "[E  O  ]\t[K  [None]  [None]  [None]  ]\t\n",
      "[A  B  C  D  ]\t[F  G  H  P  ]\t[Q  T  [None]  [None]  ]\t[J  M  ]\t[L  N  [None]  [None]  ]\t\n",
      "98\n"
     ]
    }
   ],
   "source": [
    "bt = b_tree(2)\n",
    "actual = bt.create_b_tree()\n",
    "\n",
    "abc = ['A', 'B', 'C', 'D', 'E', 'F', 'G', 'H', 'I', 'J', 'K', 'L', 'M', 'N', 'O', 'P', 'Q', 'R', 'S', 'T']\n",
    "l = []\n",
    "i = 0\n",
    "while i < len(abc):\n",
    "    num_rand = random.randint(0, len(abc)-1)\n",
    "    if num_rand not in l:\n",
    "        l.append(num_rand)\n",
    "        #print(\"Insert \", abc[num_rand])\n",
    "        bt.insert_b_tree(ord(abc[num_rand]))\n",
    "        i += 1\n",
    "\n",
    "\n",
    "level = 0\n",
    "list_print = []\n",
    "bt.print_tree(bt.root, level)\n",
    "for i in range(len(list_print)):\n",
    "    print(list_print[i])\n",
    "    \n",
    "print(bt.cont)"
   ]
  },
  {
   "cell_type": "code",
   "execution_count": null,
   "metadata": {
    "collapsed": true
   },
   "outputs": [],
   "source": []
  }
 ],
 "metadata": {
  "kernelspec": {
   "display_name": "Python 3",
   "language": "python",
   "name": "python3"
  },
  "language_info": {
   "codemirror_mode": {
    "name": "ipython",
    "version": 3
   },
   "file_extension": ".py",
   "mimetype": "text/x-python",
   "name": "python",
   "nbconvert_exporter": "python",
   "pygments_lexer": "ipython3",
   "version": "3.6.3"
  }
 },
 "nbformat": 4,
 "nbformat_minor": 2
}
